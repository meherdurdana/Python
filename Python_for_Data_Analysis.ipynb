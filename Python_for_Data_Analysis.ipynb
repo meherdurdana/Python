{
  "nbformat": 4,
  "nbformat_minor": 0,
  "metadata": {
    "colab": {
      "provenance": [],
      "authorship_tag": "ABX9TyM1S95+uW6FOOcuNpPloiyZ",
      "include_colab_link": true
    },
    "kernelspec": {
      "name": "python3",
      "display_name": "Python 3"
    },
    "language_info": {
      "name": "python"
    }
  },
  "cells": [
    {
      "cell_type": "markdown",
      "metadata": {
        "id": "view-in-github",
        "colab_type": "text"
      },
      "source": [
        "<a href=\"https://colab.research.google.com/github/meherdurdana/Python/blob/main/Python_for_Data_Analysis.ipynb\" target=\"_parent\"><img src=\"https://colab.research.google.com/assets/colab-badge.svg\" alt=\"Open In Colab\"/></a>"
      ]
    },
    {
      "cell_type": "markdown",
      "source": [
        "**Python Fundamentals**"
      ],
      "metadata": {
        "id": "VTWoEFQNwqfd"
      }
    },
    {
      "cell_type": "markdown",
      "source": [
        "String"
      ],
      "metadata": {
        "id": "h4ZVNVFZ73d_"
      }
    },
    {
      "cell_type": "code",
      "execution_count": null,
      "metadata": {
        "colab": {
          "base_uri": "https://localhost:8080/"
        },
        "id": "E_KZN1SN7yV7",
        "outputId": "761d52c9-c362-4fae-bfe0-c5fa9c0ec4a2"
      },
      "outputs": [
        {
          "output_type": "execute_result",
          "data": {
            "text/plain": [
              "False"
            ]
          },
          "metadata": {},
          "execution_count": 5
        }
      ],
      "source": [
        "name = \"Raisa\"\n",
        "name.upper()\n",
        "name.lower()\n",
        "name.capitalize()\n",
        "len(name)\n",
        "name.find('s')\n",
        "name.count('a')\n",
        "name.isupper()\n",
        "name.islower()"
      ]
    },
    {
      "cell_type": "code",
      "source": [
        "word =\"Data Science+\"\n",
        "word.split(\" \")\n",
        "word.split(\"+\")"
      ],
      "metadata": {
        "colab": {
          "base_uri": "https://localhost:8080/"
        },
        "id": "_1ci_sEy96Un",
        "outputId": "cda57935-b315-4574-a352-dfc914cf7e6f"
      },
      "execution_count": null,
      "outputs": [
        {
          "output_type": "execute_result",
          "data": {
            "text/plain": [
              "['Data Science', '']"
            ]
          },
          "metadata": {},
          "execution_count": 8
        }
      ]
    },
    {
      "cell_type": "code",
      "source": [
        "name = \"        Raisa\"\n",
        "name.strip() # to remove space"
      ],
      "metadata": {
        "colab": {
          "base_uri": "https://localhost:8080/",
          "height": 35
        },
        "id": "gNKOsrcy-Wfd",
        "outputId": "9a431f0e-e53f-4900-908d-fea6bb45dc8a"
      },
      "execution_count": null,
      "outputs": [
        {
          "output_type": "execute_result",
          "data": {
            "text/plain": [
              "'Raisa'"
            ],
            "application/vnd.google.colaboratory.intrinsic+json": {
              "type": "string"
            }
          },
          "metadata": {},
          "execution_count": 9
        }
      ]
    },
    {
      "cell_type": "markdown",
      "source": [
        "For loop"
      ],
      "metadata": {
        "id": "Z1TetDBjLXMt"
      }
    },
    {
      "cell_type": "code",
      "source": [
        "x = ['meher', 'khan', 'raisa']\n",
        "for name in x:\n",
        "  print(name)"
      ],
      "metadata": {
        "colab": {
          "base_uri": "https://localhost:8080/"
        },
        "id": "Z9l4a-bGLW2I",
        "outputId": "bebb0e1c-caef-4093-ce42-94b462d5bdd6"
      },
      "execution_count": null,
      "outputs": [
        {
          "output_type": "stream",
          "name": "stdout",
          "text": [
            "meher\n",
            "khan\n",
            "raisa\n"
          ]
        }
      ]
    },
    {
      "cell_type": "code",
      "source": [
        "nums=[1, 2, 3, 4 ,5]\n",
        "for i in nums:\n",
        "  print(i)"
      ],
      "metadata": {
        "colab": {
          "base_uri": "https://localhost:8080/"
        },
        "id": "1cJ19WKDMEvZ",
        "outputId": "498148b2-b9bf-4ba9-eb81-2e2d9040261d"
      },
      "execution_count": null,
      "outputs": [
        {
          "output_type": "stream",
          "name": "stdout",
          "text": [
            "1\n",
            "2\n",
            "3\n",
            "4\n",
            "5\n"
          ]
        }
      ]
    },
    {
      "cell_type": "markdown",
      "source": [
        "while loop"
      ],
      "metadata": {
        "id": "acIn_sU_MrFu"
      }
    },
    {
      "cell_type": "code",
      "source": [
        "i =1\n",
        "while i<=10:\n",
        "  print(i)\n",
        "  i=i+1"
      ],
      "metadata": {
        "colab": {
          "base_uri": "https://localhost:8080/"
        },
        "id": "p5U-NzCIMsYW",
        "outputId": "0f9f3ce3-59fa-4d10-a598-939fe698d387"
      },
      "execution_count": null,
      "outputs": [
        {
          "output_type": "stream",
          "name": "stdout",
          "text": [
            "1\n",
            "2\n",
            "3\n",
            "4\n",
            "5\n",
            "6\n",
            "7\n",
            "8\n",
            "9\n",
            "10\n"
          ]
        }
      ]
    },
    {
      "cell_type": "code",
      "source": [
        "nums=[1, 2, 3, 4, 5, 6, 7, 8, 9, 10]\n",
        "for num in nums:\n",
        "  if(num==5):\n",
        "    continue\n",
        "  if(num==8):\n",
        "    break\n",
        "  print(num)"
      ],
      "metadata": {
        "colab": {
          "base_uri": "https://localhost:8080/"
        },
        "id": "C8ixMNN4NK8E",
        "outputId": "57e3d53f-4972-423b-cda4-b8512e7d64fe"
      },
      "execution_count": null,
      "outputs": [
        {
          "output_type": "stream",
          "name": "stdout",
          "text": [
            "1\n",
            "2\n",
            "3\n",
            "4\n",
            "6\n",
            "7\n"
          ]
        }
      ]
    },
    {
      "cell_type": "markdown",
      "source": [
        "**Python for Data Analysis**"
      ],
      "metadata": {
        "id": "pfbLRi_BwwJ-"
      }
    },
    {
      "cell_type": "markdown",
      "source": [
        "Sets"
      ],
      "metadata": {
        "id": "YsmULHia2CN4"
      }
    },
    {
      "cell_type": "code",
      "source": [
        "s= {'meher', 'khan', 'raisa'}\n",
        "for i in s:\n",
        "  print(i)"
      ],
      "metadata": {
        "colab": {
          "base_uri": "https://localhost:8080/"
        },
        "id": "nZIAHBmjw5Nz",
        "outputId": "92b601c7-9a9e-4825-a040-4e0a3dd761c7"
      },
      "execution_count": null,
      "outputs": [
        {
          "output_type": "stream",
          "name": "stdout",
          "text": [
            "meher\n",
            "raisa\n",
            "khan\n"
          ]
        }
      ]
    },
    {
      "cell_type": "code",
      "source": [
        "s= {'meher', 'khan', 'raisa'}\n",
        "s.add('durdana')\n",
        "print(s)"
      ],
      "metadata": {
        "colab": {
          "base_uri": "https://localhost:8080/"
        },
        "id": "q7ST8VV7HTcW",
        "outputId": "9af50cd0-f379-42c0-e043-c54915a3fa17"
      },
      "execution_count": null,
      "outputs": [
        {
          "output_type": "stream",
          "name": "stdout",
          "text": [
            "{'meher', 'durdana', 'raisa', 'khan'}\n"
          ]
        }
      ]
    },
    {
      "cell_type": "code",
      "source": [
        "s= {'meher', 'khan', 'raisa'}\n",
        "s.update({'rai', 'durdana'})\n",
        "print(s)"
      ],
      "metadata": {
        "colab": {
          "base_uri": "https://localhost:8080/"
        },
        "id": "xcdRBs9AIBkS",
        "outputId": "d9c1bed8-694a-4b1b-dc5e-32d5723ae220"
      },
      "execution_count": null,
      "outputs": [
        {
          "output_type": "stream",
          "name": "stdout",
          "text": [
            "{'khan', 'rai', 'meher', 'durdana', 'raisa'}\n"
          ]
        }
      ]
    },
    {
      "cell_type": "code",
      "source": [
        "\n",
        "s= {'meher', 'khan', 'raisa'}\n",
        "s.remove('raisa')\n",
        "print(s)"
      ],
      "metadata": {
        "colab": {
          "base_uri": "https://localhost:8080/"
        },
        "id": "tHrFH37XIYJ9",
        "outputId": "31b62bda-40be-4623-9646-c7ef3f495996"
      },
      "execution_count": null,
      "outputs": [
        {
          "output_type": "stream",
          "name": "stdout",
          "text": [
            "{'meher', 'khan'}\n"
          ]
        }
      ]
    },
    {
      "cell_type": "code",
      "source": [
        "#removes the the specified element\n",
        "s= {'meher', 'khan', 'raisa'}\n",
        "s.discard('rai')\n",
        "print(s)"
      ],
      "metadata": {
        "colab": {
          "base_uri": "https://localhost:8080/"
        },
        "id": "9Q1sFzdiIkhg",
        "outputId": "5ca53b07-f832-4e1e-9354-01b67eea2fb0"
      },
      "execution_count": null,
      "outputs": [
        {
          "output_type": "stream",
          "name": "stdout",
          "text": [
            "{'meher', 'raisa', 'khan'}\n"
          ]
        }
      ]
    },
    {
      "cell_type": "code",
      "source": [
        "#it removes the last element\n",
        "s= {'meher', 'khan', 'raisa'}\n",
        "s.pop()\n",
        "print(s)"
      ],
      "metadata": {
        "colab": {
          "base_uri": "https://localhost:8080/"
        },
        "id": "KvxYl7pmIpnh",
        "outputId": "b1101cc6-fcf0-438a-dfef-97db5ad53e73"
      },
      "execution_count": null,
      "outputs": [
        {
          "output_type": "stream",
          "name": "stdout",
          "text": [
            "{'raisa', 'khan'}\n"
          ]
        }
      ]
    },
    {
      "cell_type": "code",
      "source": [
        "#it removes the lowest value\n",
        "s= {1, 2, 3, 4, 5, 6, 7, 8, 9, 10}\n",
        "s.pop()\n",
        "print(s)"
      ],
      "metadata": {
        "colab": {
          "base_uri": "https://localhost:8080/"
        },
        "id": "H8upBYDAXjjS",
        "outputId": "4751c086-8fd9-4927-cb9c-acde813a466d"
      },
      "execution_count": null,
      "outputs": [
        {
          "output_type": "stream",
          "name": "stdout",
          "text": [
            "{2, 3, 4, 5, 6, 7, 8, 9, 10}\n"
          ]
        }
      ]
    },
    {
      "cell_type": "code",
      "source": [
        "#clears the set\n",
        "s= {1, 2, 3, 4, 5, 6, 7, 8, 9, 10}\n",
        "s.clear()\n",
        "print(s)"
      ],
      "metadata": {
        "colab": {
          "base_uri": "https://localhost:8080/"
        },
        "id": "NsmJCu3ZX3sZ",
        "outputId": "36b6a200-01c4-4ef6-d516-2ed698ef2cdb"
      },
      "execution_count": null,
      "outputs": [
        {
          "output_type": "stream",
          "name": "stdout",
          "text": [
            "set()\n"
          ]
        }
      ]
    }
  ]
}