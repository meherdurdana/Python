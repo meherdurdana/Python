{
  "nbformat": 4,
  "nbformat_minor": 0,
  "metadata": {
    "colab": {
      "provenance": []
    },
    "kernelspec": {
      "name": "python3",
      "display_name": "Python 3"
    },
    "language_info": {
      "name": "python"
    }
  },
  "cells": [
    {
      "cell_type": "markdown",
      "source": [
        "# Line plot (1)\n",
        "With matplotlib, you can create a bunch of different plots in Python. The most basic plot is the line plot. A general recipe is given here.\n",
        "\n",
        "import matplotlib.pyplot as plt\n",
        "plt.plot(x,y)\n",
        "plt.show()\n",
        "In the video, you already saw how much the world population has grown over the past years. Will it continue to do so? The world bank has estimates of the world population for the years 1950 up to 2100. The years are loaded in your workspace as a list called year, and the corresponding populations as a list called pop.\n",
        "\n",
        "This course touches on a lot of concepts you may have forgotten, so if you ever need a quick refresher, download the Python Cheat Sheet and keep it handy!\n",
        "\n",
        "**Instructions**\n",
        "\n",
        "print() the last item from both the year and the pop list to see what the predicted population for the year 2100 is. Use two print() functions.\n",
        "Before you can start, you should import matplotlib.pyplot as plt. pyplot is a sub-package of matplotlib, hence the dot.\n",
        "Use plt.plot() to build a line plot. year should be mapped on the horizontal axis, pop on the vertical axis. Don't forget to finish off with the plt.show() function to actually display the plot."
      ],
      "metadata": {
        "id": "rsZkZO_0RIpb"
      }
    },
    {
      "cell_type": "code",
      "source": [
        "# Print the last item from year and pop\n",
        "print(\"Year 2100:\", year[-1])\n",
        "print(\"Predicted population for the year 2100:\", pop[-1], \"billion\")\n",
        "# Import matplotlib.pyplot as plt\n",
        "import matplotlib.pyplot as plt\n",
        "\n",
        "# Make a line plot: year on the x-axis, pop on the y-axis\n",
        "plt.plot(year,pop)\n",
        "\n",
        "# Display the plot with plt.show()\n",
        "plt.show()"
      ],
      "metadata": {
        "id": "CS71k_6IRI1r"
      },
      "execution_count": null,
      "outputs": []
    },
    {
      "cell_type": "markdown",
      "source": [],
      "metadata": {
        "id": "qzCWjPOQRJE-"
      }
    },
    {
      "cell_type": "code",
      "source": [],
      "metadata": {
        "id": "WLFhR1nDRJOk"
      },
      "execution_count": null,
      "outputs": []
    },
    {
      "cell_type": "markdown",
      "source": [],
      "metadata": {
        "id": "lUBM-2acRJas"
      }
    },
    {
      "cell_type": "code",
      "source": [],
      "metadata": {
        "id": "0bntQaokRJjc"
      },
      "execution_count": null,
      "outputs": []
    }
  ]
}