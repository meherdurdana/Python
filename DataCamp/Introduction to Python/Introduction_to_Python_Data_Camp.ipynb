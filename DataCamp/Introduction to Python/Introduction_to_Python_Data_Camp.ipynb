{
  "nbformat": 4,
  "nbformat_minor": 0,
  "metadata": {
    "colab": {
      "provenance": []
    },
    "kernelspec": {
      "name": "python3",
      "display_name": "Python 3"
    },
    "language_info": {
      "name": "python"
    }
  },
  "cells": [
    {
      "cell_type": "markdown",
      "source": [
        "#**Variable Assignment**\n",
        "In Python, a variable allows you to refer to a value with a name. To create a variable x with a value of 5, you use =, like this example:\n",
        "\n",
        "x = 5\n",
        "You can now use the name of this variable, x, instead of the actual value, 5.\n",
        "\n",
        "Remember, = in Python means assignment, it doesn't test equality!\n",
        "\n",
        "**Instructions**\n",
        "\n",
        "Create a variable savings with the value of 100.\n",
        "Check out this variable by typing print(savings) in the script."
      ],
      "metadata": {
        "id": "MlQa8rDsiOIY"
      }
    },
    {
      "cell_type": "code",
      "execution_count": null,
      "metadata": {
        "colab": {
          "base_uri": "https://localhost:8080/"
        },
        "id": "vhHxSbEghJOP",
        "outputId": "3beead3e-e036-49a9-db7a-95915501a25f"
      },
      "outputs": [
        {
          "output_type": "stream",
          "name": "stdout",
          "text": [
            "100\n"
          ]
        }
      ],
      "source": [
        "# Create a variable savings\n",
        "savings = 100\n",
        "\n",
        "# Print out savings\n",
        "print(savings)"
      ]
    },
    {
      "cell_type": "markdown",
      "source": [
        "#Calculations with variables\n",
        "You've now created a savings variable, so let's start saving!\n",
        "\n",
        "Instead of calculating with the actual values, you can use variables instead. The savings variable you created in the previous exercise with a value of 100 is available to you.\n",
        "\n",
        "How much money would you have saved four months from now, if you saved $10 each month?\n",
        "\n",
        "**Instructions**\n",
        "\n",
        "Create a variable monthly_savings, equal to 10 and num_months, equal to 4.\n",
        "Multiply monthly_savings by num_months and save it to new_savings.\n",
        "Add new_savings to savings, saving the sum as total_savings.\n",
        "Print the value of total_savings"
      ],
      "metadata": {
        "id": "0wyzOM15iwBp"
      }
    },
    {
      "cell_type": "code",
      "source": [
        "# Create the variables monthly_savings and num_months\n",
        "monthly_savings = 10\n",
        "num_months = 4\n",
        "\n",
        "# Multiply monthly_savings and num_months\n",
        "new_savings = monthly_savings*num_months\n",
        "\n",
        "# Add new_savings to your savings\n",
        "total_savings = new_savings + savings\n",
        "\n",
        "# Print total_savings\n",
        "print(total_savings)"
      ],
      "metadata": {
        "colab": {
          "base_uri": "https://localhost:8080/"
        },
        "id": "o05v73ebhWM5",
        "outputId": "2f712743-730d-4b9b-b0d7-c8c3badda496"
      },
      "execution_count": null,
      "outputs": [
        {
          "output_type": "stream",
          "name": "stdout",
          "text": [
            "140\n"
          ]
        }
      ]
    },
    {
      "cell_type": "markdown",
      "source": [
        "#Other variable types\n",
        "In the previous exercise, you worked with the integer Python data type:\n",
        "\n",
        "int, or integer: a number without a fractional part. savings, with the value 100, is an example of an integer.\n",
        "Next to numerical data types, there are three other very common data types:\n",
        "\n",
        "float, or floating point: a number that has both an integer and fractional part, separated by a point. 1.1, is an example of a float.\n",
        "str, or string: a type to represent text. You can use single or double quotes to build a string.\n",
        "bool, or boolean: a type to represent logical values. It can only be True or False (the capitalization is important!).\n",
        "\n",
        "**Instructions**\n",
        "\n",
        "Create a new float, half, with the value 0.5.\n",
        "Create a new string, intro, with the value \"Hello! How are you?\".\n",
        "Create a new boolean, is_good, with the value True."
      ],
      "metadata": {
        "id": "XHt5bKM-i_DS"
      }
    },
    {
      "cell_type": "code",
      "source": [
        "# Create a variable half\n",
        "half = 0.5\n",
        "\n",
        "# Create a variable intro\n",
        "intro = \"Hello! How are you?\"\n",
        "\n",
        "# Create a variable is_good\n",
        "is_good = True"
      ],
      "metadata": {
        "id": "PLT9Zy60i_Px"
      },
      "execution_count": null,
      "outputs": []
    },
    {
      "cell_type": "markdown",
      "source": [
        "#Operations with other types\n",
        "Hugo mentioned that different types behave differently in Python.\n",
        "\n",
        "When you sum two strings, for example, you'll get different behavior than when you sum two integers or two booleans.\n",
        "\n",
        "In the script some variables with different types have already been created. It's up to you to use them.\n",
        "\n",
        "**Instructions**\n",
        "\n",
        "Calculate the product of monthly_savings and num_months. Store the result in year_savings.\n",
        "What do you think the resulting type will be? Find out by printing out the type of year_savings.\n",
        "Calculate the sum of intro and intro and store the result in a new variable doubleintro.\n",
        "Print out doubleintro. Did you expect this?"
      ],
      "metadata": {
        "id": "VCDSXuWpjLbZ"
      }
    },
    {
      "cell_type": "code",
      "source": [
        "monthly_savings = 10\n",
        "num_months = 12\n",
        "intro = \"Hello! How are you?\"\n",
        "\n",
        "# Calculate year_savings using monthly_savings and num_months\n",
        "year_savings = monthly_savings * num_months\n",
        "\n",
        "# Print the type of year_savings\n",
        "print(type(year_savings))\n",
        "\n",
        "# Assign sum of intro and intro to doubleintro\n",
        "doubleintro = intro + intro\n",
        "\n",
        "# Print out doubleintro\n",
        "print(doubleintro)"
      ],
      "metadata": {
        "colab": {
          "base_uri": "https://localhost:8080/"
        },
        "id": "L5bGpy5bjLnJ",
        "outputId": "02f0577f-2b30-45e1-f622-59b1664482d5"
      },
      "execution_count": null,
      "outputs": [
        {
          "output_type": "stream",
          "name": "stdout",
          "text": [
            "<class 'int'>\n",
            "Hello! How are you?Hello! How are you?\n"
          ]
        }
      ]
    },
    {
      "cell_type": "markdown",
      "source": [
        "#Type conversion\n",
        "Using the + operator to paste together two strings can be very useful in building custom messages.\n",
        "\n",
        "Suppose, for example, that you've calculated your savings want to summarize the results in a string.\n",
        "\n",
        "To do this, you'll need to explicitly convert the types of your variables. More specifically, you'll need str(), to convert a value into a string. str(savings), for example, will convert the integer savings to a string.\n",
        "\n",
        "Similar functions such as int(), float() and bool() will help you convert Python values into any type.\n",
        "\n",
        "**Instructions**\n",
        "\n",
        "Hit Run Code to run the code. Try to understand the error message.\n",
        "Fix the code such that the printout runs without errors; use the function str() to convert the variables savings and total_savings to strings.\n",
        "Convert the variable pi_string to a float and store this float as a new variable, pi_float."
      ],
      "metadata": {
        "id": "-AhzFCpEjYjx"
      }
    },
    {
      "cell_type": "code",
      "source": [
        "# Definition of savings and total_savings\n",
        "savings = 100\n",
        "total_savings = 150\n",
        "\n",
        "# Fix the printout\n",
        "print(\"I started with $\" + str(savings) + \" and now have $\" + str(total_savings) + \". Awesome!\")\n",
        "\n",
        "# Definition of pi_string\n",
        "pi_string = \"3.1415926\"\n",
        "\n",
        "# Convert pi_string into float: pi_float\n",
        "pi_float = float(pi_string)"
      ],
      "metadata": {
        "colab": {
          "base_uri": "https://localhost:8080/"
        },
        "id": "Nfw1ds6QjYwh",
        "outputId": "3c80ac35-a390-4d84-a94b-898d3bb767d8"
      },
      "execution_count": null,
      "outputs": [
        {
          "output_type": "stream",
          "name": "stdout",
          "text": [
            "I started with $100 and now have $150. Awesome!\n"
          ]
        }
      ]
    },
    {
      "cell_type": "markdown",
      "source": [
        "# Create a list\n",
        "As opposed to int, bool etc., a list is a compound data type; you can group values together:\n",
        "\n",
        "a = \"is\"\n",
        "b = \"nice\"\n",
        "my_list = [\"my\", \"list\", a, b]\n",
        "After measuring the height of your family, you decide to collect some information on the house you're living in. The areas of the different parts of your house are stored in separate variables for now, as shown in the script.\n",
        "\n",
        "**Instructions**\n",
        "\n",
        "\n",
        "Create a list, areas, that contains the area of the hallway (hall), kitchen (kit), living room (liv), bedroom (bed) and bathroom (bath), in this order. Use the predefined variables.\n",
        "Print areas with the print() function."
      ],
      "metadata": {
        "id": "W-MiN6GrCOpd"
      }
    },
    {
      "cell_type": "code",
      "source": [
        "# area variables (in square meters)\n",
        "hall = 11.25\n",
        "kit = 18.0\n",
        "liv = 20.0\n",
        "bed = 10.75\n",
        "bath = 9.50\n",
        "\n",
        "# Create list areas\n",
        "areas = [11.25, 18.0, 20.0, 10.75, 9.50]\n",
        "\n",
        "# Print areas\n",
        "print(areas)"
      ],
      "metadata": {
        "colab": {
          "base_uri": "https://localhost:8080/"
        },
        "id": "KH0Imk3WCO1z",
        "outputId": "6b83bba8-82d6-4612-a9f4-6a3fae955464"
      },
      "execution_count": null,
      "outputs": [
        {
          "output_type": "stream",
          "name": "stdout",
          "text": [
            "[11.25, 18.0, 20.0, 10.75, 9.5]\n"
          ]
        }
      ]
    },
    {
      "cell_type": "markdown",
      "source": [
        "# Create list with different types\n",
        "A list can contain any Python type. Although it's not really common, a list can also contain a mix of Python types including strings, floats, booleans, etc.\n",
        "\n",
        "The printout of the previous exercise wasn't really satisfying. It's just a list of numbers representing the areas, but you can't tell which area corresponds to which part of your house.\n",
        "\n",
        "The code in the editor is the start of a solution. For some of the areas, the name of the corresponding room is already placed in front. Pay attention here! \"bathroom\" is a string, while bath is a variable that represents the float 9.50 you specified earlier.\n",
        "\n",
        "**Instructions**\n",
        "\n",
        "Finish the code that creates the areas list. Build the list so that the list first contains the name of each room as a string and then its area. In other words, add the strings \"hallway\", \"kitchen\" and \"bedroom\" at the appropriate locations.\n",
        "Print areas again; is the printout more informative this time?"
      ],
      "metadata": {
        "id": "JQZtXoqYDRn7"
      }
    },
    {
      "cell_type": "code",
      "source": [
        "# area variables (in square meters)\n",
        "hall = 11.25\n",
        "kit = 18.0\n",
        "liv = 20.0\n",
        "bed = 10.75\n",
        "bath = 9.50\n",
        "\n",
        "# Adapt list areas\n",
        "areas = [\"hallway\", hall, \"kitchen\", kit, \"living room\", liv, \"bedroom\", bed, \"bathroom\", bath]\n",
        "\n",
        "# Print areas\n",
        "print(areas)"
      ],
      "metadata": {
        "colab": {
          "base_uri": "https://localhost:8080/"
        },
        "id": "iqqyMRo4DRzU",
        "outputId": "fcb2f54b-9af3-488a-9534-4fa2c5bd2c8a"
      },
      "execution_count": null,
      "outputs": [
        {
          "output_type": "stream",
          "name": "stdout",
          "text": [
            "['hallway', 11.25, 'kitchen', 18.0, 'living room', 20.0, 'bedroom', 10.75, 'bathroom', 9.5]\n"
          ]
        }
      ]
    },
    {
      "cell_type": "markdown",
      "source": [
        "# List of lists\n",
        "As a data scientist, you'll often be dealing with a lot of data, and it will make sense to group some of this data.\n",
        "\n",
        "Instead of creating a flat list containing strings and floats, representing the names and areas of the rooms in your house, you can create a list of lists. The script in the editor can already give you an idea.\n",
        "\n",
        "Don't get confused here: \"hallway\" is a string, while hall is a variable that represents the float 11.25 you specified earlier.\n",
        "\n",
        "**Instructions**\n",
        "\n",
        "Finish the list of lists so that it also contains the bedroom and bathroom data. Make sure you enter these in order!\n",
        "Print out house; does this way of structuring your data make more sense?\n",
        "Print out the type of house. Are you still dealing with a list?"
      ],
      "metadata": {
        "id": "k3AEea-IEpqK"
      }
    },
    {
      "cell_type": "code",
      "source": [
        "# area variables (in square meters)\n",
        "hall = 11.25\n",
        "kit = 18.0\n",
        "liv = 20.0\n",
        "bed = 10.75\n",
        "bath = 9.50\n",
        "\n",
        "# house information as list of lists\n",
        "house = [[\"hallway\", hall],\n",
        "         [\"kitchen\", kit],\n",
        "         [\"living room\", liv],\n",
        "         [\"bedroom\", bed],\n",
        "         [\"bathroom\", bath]]\n",
        "\n",
        "# Print out house\n",
        "print(house)\n",
        "\n",
        "# Print out the type of house\n",
        "print(type(house))"
      ],
      "metadata": {
        "colab": {
          "base_uri": "https://localhost:8080/"
        },
        "id": "FV0xXI92FeDW",
        "outputId": "1e88bdf3-8d54-45d0-806b-91c44e3266de"
      },
      "execution_count": null,
      "outputs": [
        {
          "output_type": "stream",
          "name": "stdout",
          "text": [
            "[['hallway', 11.25], ['kitchen', 18.0], ['living room', 20.0], ['bedroom', 10.75], ['bathroom', 9.5]]\n",
            "<class 'list'>\n"
          ]
        }
      ]
    },
    {
      "cell_type": "markdown",
      "source": [
        "# Subset and conquer\n",
        "Subsetting Python lists is a piece of cake. Take the code sample below, which creates a list x and then selects \"b\" from it. Remember that this is the second element, so it has index 1. You can also use negative indexing.\n",
        "\n",
        "x = [\"a\", \"b\", \"c\", \"d\"]\n",
        "x[1]\n",
        "x[-3] # same result!\n",
        "Remember the areas list from before, containing both strings and floats? Its definition is already in the script. Can you add the correct code to do some Python subsetting?\n",
        "\n",
        "**Instructions**\n",
        "\n",
        "Print out the second element from the areas list (it has the value 11.25).\n",
        "Subset and print out the last element of areas, being 9.50. Using a negative index makes sense here!\n",
        "Select the number representing the area of the living room (20.0) and print it out."
      ],
      "metadata": {
        "id": "qicAKorsFmX4"
      }
    },
    {
      "cell_type": "code",
      "source": [
        "# Create the areas list\n",
        "areas = [\"hallway\", 11.25, \"kitchen\", 18.0, \"living room\", 20.0, \"bedroom\", 10.75, \"bathroom\", 9.50]\n",
        "\n",
        "# Print out second element from areas\n",
        "print(areas[1])\n",
        "\n",
        "# Print out last element from areas\n",
        "print(areas[-1])\n",
        "\n",
        "# Print out the area of the living room\n",
        "print(areas[5])"
      ],
      "metadata": {
        "colab": {
          "base_uri": "https://localhost:8080/"
        },
        "id": "BocfntiCFml1",
        "outputId": "f0f46dd5-149d-4369-8f42-f641659ef259"
      },
      "execution_count": null,
      "outputs": [
        {
          "output_type": "stream",
          "name": "stdout",
          "text": [
            "11.25\n",
            "9.5\n",
            "20.0\n"
          ]
        }
      ]
    },
    {
      "cell_type": "markdown",
      "source": [
        "# Subset and calculate\n",
        "After you've extracted values from a list, you can use them to perform additional calculations. Take this example, where the second and fourth element of a list x are extracted. The strings that result are pasted together using the + operator:\n",
        "\n",
        "x = [\"a\", \"b\", \"c\", \"d\"]\n",
        "print(x[1] + x[3])\n",
        "\n",
        "**Instructions**\n",
        "\n",
        "Using a combination of list subsetting and variable assignment, create a new variable, eat_sleep_area, that contains the sum of the area of the kitchen and the area of the bedroom.\n",
        "Print the new variable eat_sleep_area."
      ],
      "metadata": {
        "id": "n9UvTpbCJkNM"
      }
    },
    {
      "cell_type": "code",
      "source": [
        "# Create the areas list\n",
        "areas = [\"hallway\", 11.25, \"kitchen\", 18.0, \"living room\", 20.0, \"bedroom\", 10.75, \"bathroom\", 9.50]\n",
        "\n",
        "# Sum of kitchen and bedroom area: eat_sleep_area\n",
        "eat_sleep_area = 18.0 + 10.75\n",
        "\n",
        "# Print the variable eat_sleep_area\n",
        "print(eat_sleep_area)"
      ],
      "metadata": {
        "colab": {
          "base_uri": "https://localhost:8080/"
        },
        "id": "1vZRhbA1JkYi",
        "outputId": "7d8a1fca-ddd1-4fd0-b328-12b72946780a"
      },
      "execution_count": null,
      "outputs": [
        {
          "output_type": "stream",
          "name": "stdout",
          "text": [
            "28.75\n"
          ]
        }
      ]
    },
    {
      "cell_type": "code",
      "source": [
        "# Create the areas list\n",
        "areas = [\"hallway\", 11.25, \"kitchen\", 18.0, \"living room\", 20.0, \"bedroom\", 10.75, \"bathroom\", 9.50]\n",
        "\n",
        "# Sum of kitchen and bedroom area: eat_sleep_area\n",
        "eat_sleep_area = areas[3]+areas[7]\n",
        "\n",
        "# Print the variable eat_sleep_area\n",
        "print(eat_sleep_area)"
      ],
      "metadata": {
        "colab": {
          "base_uri": "https://localhost:8080/"
        },
        "id": "PgzxmwrcKfPc",
        "outputId": "831e23cb-984a-44f8-cb1f-49fd474d9bdd"
      },
      "execution_count": null,
      "outputs": [
        {
          "output_type": "stream",
          "name": "stdout",
          "text": [
            "28.75\n"
          ]
        }
      ]
    },
    {
      "cell_type": "markdown",
      "source": [
        "# Slicing and dicing\n",
        "Selecting single values from a list is just one part of the story. It's also possible to slice your list, which means selecting multiple elements from your list. Use the following syntax:\n",
        "\n",
        "my_list[start:end]\n",
        "The start index will be included, while the end index is not.\n",
        "\n",
        "The code sample below shows an example. A list with \"b\" and \"c\", corresponding to indexes 1 and 2, are selected from a list x:\n",
        "\n",
        "x = [\"a\", \"b\", \"c\", \"d\"]\n",
        "x[1:3]\n",
        "The elements with index 1 and 2 are included, while the element with index 3 is not.\n",
        "\n",
        "**Instructions**\n",
        "\n",
        "Use slicing to create a list, downstairs, that contains the first 6 elements of areas.\n",
        "Do a similar thing to create a new variable, upstairs, that contains the last 4 elements of areas.\n",
        "Print both downstairs and upstairs using print()"
      ],
      "metadata": {
        "id": "MRGo-SAXKhxB"
      }
    },
    {
      "cell_type": "code",
      "source": [
        "# Create the areas list\n",
        "areas = [\"hallway\", 11.25, \"kitchen\", 18.0, \"living room\", 20.0, \"bedroom\", 10.75, \"bathroom\", 9.50]\n",
        "\n",
        "# Use slicing to create downstairs\n",
        "downstairs = areas[0:6]\n",
        "\n",
        "# Use slicing to create upstairs\n",
        "upstairs = areas[6:10]\n",
        "\n",
        "# Print out downstairs and upstairs\n",
        "print(upstairs)\n",
        "print(downstairs)"
      ],
      "metadata": {
        "colab": {
          "base_uri": "https://localhost:8080/"
        },
        "id": "1noBo8dTKh6p",
        "outputId": "79c841f8-3377-4a77-8b15-fd673c900273"
      },
      "execution_count": null,
      "outputs": [
        {
          "output_type": "stream",
          "name": "stdout",
          "text": [
            "['bedroom', 10.75, 'bathroom', 9.5]\n",
            "['hallway', 11.25, 'kitchen', 18.0, 'living room', 20.0]\n"
          ]
        }
      ]
    },
    {
      "cell_type": "markdown",
      "source": [
        "# Slicing and dicing (2)\n",
        "In the video, Hugo first discussed the syntax where you specify both where to begin and end the slice of your list:\n",
        "\n",
        "my_list[begin:end]\n",
        "However, it's also possible not to specify these indexes. If you don't specify the begin index, Python figures out that you want to start your slice at the beginning of your list. If you don't specify the end index, the slice will go all the way to the last element of your list. To experiment with this, try the following commands in the IPython Shell:\n",
        "\n",
        "x = [\"a\", \"b\", \"c\", \"d\"]\n",
        "x[:2]\n",
        "x[2:]\n",
        "x[:]\n",
        "\n",
        "**Instructions**\n",
        "\n",
        "Create downstairs again, as the first 6 elements of areas. This time, simplify the slicing by omitting the begin index.\n",
        "Create upstairs again, as the last 4 elements of areas. This time, simplify the slicing by omitting the end index."
      ],
      "metadata": {
        "id": "AHwIP_BsR2L0"
      }
    },
    {
      "cell_type": "code",
      "source": [
        "# Create the areas list\n",
        "areas = [\"hallway\", 11.25, \"kitchen\", 18.0, \"living room\", 20.0, \"bedroom\", 10.75, \"bathroom\", 9.50]\n",
        "\n",
        "# Alternative slicing to create downstairs\n",
        "downstairs = areas[:6]\n",
        "\n",
        "# Alternative slicing to create upstairs\n",
        "upstairs = areas[6:]"
      ],
      "metadata": {
        "id": "zUD15P4RSO1B"
      },
      "execution_count": null,
      "outputs": []
    },
    {
      "cell_type": "markdown",
      "source": [
        "# Replace list elements\n",
        "Replacing list elements is pretty easy. Simply subset the list and assign new values to the subset. You can select single elements or you can change entire list slices at once.\n",
        "\n",
        "Use the IPython Shell to experiment with the commands below. Can you tell what's happening and why?\n",
        "\n",
        "x = [\"a\", \"b\", \"c\", \"d\"]\n",
        "x[1] = \"r\"\n",
        "x[2:] = [\"s\", \"t\"]\n",
        "For this and the following exercises, you'll continue working on the areas list that contains the names and areas of different rooms in a house.\n",
        "\n",
        "**Instructions**\n",
        "\n",
        "Update the area of the bathroom area to be 10.50 square meters instead of 9.50.\n",
        "Make the areas list more trendy! Change \"living room\" to \"chill zone\"."
      ],
      "metadata": {
        "id": "oDtLLRQUSUZU"
      }
    },
    {
      "cell_type": "code",
      "source": [
        "# Create the areas list\n",
        "areas = [\"hallway\", 11.25, \"kitchen\", 18.0, \"living room\", 20.0, \"bedroom\", 10.75, \"bathroom\", 9.50]\n",
        "\n",
        "# Correct the bathroom area\n",
        "areas[9] = 10.50\n",
        "\n",
        "# Change \"living room\" to \"chill zone\"\n",
        "areas[4] = \"chill zone\""
      ],
      "metadata": {
        "id": "sRZiqqKnSUie"
      },
      "execution_count": null,
      "outputs": []
    },
    {
      "cell_type": "markdown",
      "source": [
        "# Extend a list\n",
        "If you can change elements in a list, you sure want to be able to add elements to it, right? You can use the + operator:\n",
        "\n",
        "x = [\"a\", \"b\", \"c\", \"d\"]\n",
        "y = x + [\"e\", \"f\"]\n",
        "You just won the lottery, awesome! You decide to build a poolhouse and a garage. Can you add the information to the areas list?\n",
        "\n",
        "**Instructions**\n",
        "\n",
        "Use the + operator to paste the list [\"poolhouse\", 24.5] to the end of the areas list. Store the resulting list as areas_1.\n",
        "Further extend areas_1 by adding data on your garage. Add the string \"garage\" and float 15.45. Name the resulting list areas_2."
      ],
      "metadata": {
        "id": "Vmg-bROMW2MK"
      }
    },
    {
      "cell_type": "code",
      "source": [
        "# Create the areas list and make some changes\n",
        "areas = [\"hallway\", 11.25, \"kitchen\", 18.0, \"chill zone\", 20.0,\n",
        "         \"bedroom\", 10.75, \"bathroom\", 10.50]\n",
        "\n",
        "# Add poolhouse data to areas, new list is areas_1\n",
        "areas_1 = areas + [\"poolhouse\", 24.5]\n",
        "\n",
        "# Add garage data to areas_1, new list is areas_2\n",
        "areas_2 = areas_1 + [\"garage\", 15.45]"
      ],
      "metadata": {
        "id": "a3YZ6MAYW6QA"
      },
      "execution_count": null,
      "outputs": []
    },
    {
      "cell_type": "markdown",
      "source": [
        "# Inner workings of lists\n",
        "At the end of the video, Hugo explained how Python lists work behind the scenes. In this exercise you'll get some hands-on experience with this.\n",
        "\n",
        "The Python code in the script already creates a list with the name areas and a copy named areas_copy. Next, the first element in the areas_copy list is changed and the areas list is printed out. If you hit Run Code you'll see that, although you've changed areas_copy, the change also takes effect in the areas list. That's because areas and areas_copy point to the same list.\n",
        "\n",
        "If you want to prevent changes in areas_copy from also taking effect in areas, you'll have to do a more explicit copy of the areas list. You can do this with list() or by using [:].\n",
        "\n",
        "**Instructions**\n",
        "\n",
        "Change the second command, that creates the variable areas_copy, such that areas_copy is an explicit copy of areas. After your edit, changes made to areas_copy shouldn't affect areas. Submit the answer to check this."
      ],
      "metadata": {
        "id": "zYdnnun3Xry7"
      }
    },
    {
      "cell_type": "code",
      "source": [
        "# Create list areas\n",
        "areas = [11.25, 18.0, 20.0, 10.75, 9.50]\n",
        "\n",
        "# Create areas_copy\n",
        "areas_copy = list(areas)\n",
        "\n",
        "# Change areas_copy\n",
        "areas_copy[0] = 5.0\n",
        "\n",
        "# Print areas\n",
        "print(areas)"
      ],
      "metadata": {
        "id": "EHlCcHRoXsGM"
      },
      "execution_count": null,
      "outputs": []
    },
    {
      "cell_type": "markdown",
      "source": [
        "# Familiar functions\n",
        "Out of the box, Python offers a bunch of built-in functions to make your life as a data scientist easier. You already know two such functions: print() and type(). You've also used the functions str(), int(), bool() and float() to switch between data types. These are built-in functions as well.\n",
        "\n",
        "Calling a function is easy. To get the type of 3.0 and store the output as a new variable, result, you can use the following:\n",
        "\n",
        "result = type(3.0)\n",
        "The general recipe for calling functions and saving the result to a variable is thus:\n",
        "\n",
        "output = function_name(input)\n",
        "\n",
        "**Instructions**\n",
        "\n",
        "*   Use print() in combination with type() to print out the type of var1.\n",
        "*   Use len() to get the length of the list var1. Wrap it in a print() call to directly print it out.\n",
        "*   Use int() to convert var2 to an integer. Store the output as out2."
      ],
      "metadata": {
        "id": "V4hcgF93LQ1C"
      }
    },
    {
      "cell_type": "code",
      "source": [
        "# Create variables var1 and var2\n",
        "var1 = [1, 2, 3, 4]\n",
        "var2 = True\n",
        "\n",
        "# Print out type of var1\n",
        "print(type(var1))\n",
        "\n",
        "\n",
        "# Print out length of var1\n",
        "print(len(var1))\n",
        "\n",
        "# Convert var2 to an integer: out2\n",
        "out2 = int(var2)"
      ],
      "metadata": {
        "id": "qrtL7ovkLRF5"
      },
      "execution_count": null,
      "outputs": []
    },
    {
      "cell_type": "markdown",
      "source": [
        "# Multiple arguments\n",
        "In the previous exercise, you identified optional arguments by viewing the documentation with help(). You'll now apply this to change the behavior of the sorted() function.\n",
        "\n",
        "Have a look at the documentation of sorted() by typing help(sorted) in the IPython Shell.\n",
        "\n",
        "You'll see that sorted() takes three arguments: iterable, key, and reverse.\n",
        "\n",
        "key=None means that if you don't specify the key argument, it will be None. reverse=False means that if you don't specify the reverse argument, it will be False, by default.\n",
        "\n",
        "In this exercise, you'll only have to specify iterable and reverse, not key. The first input you pass to sorted() will be matched to the iterable argument, but what about the second input? To tell Python you want to specify reverse without changing anything about key, you can use = to assign it a new value:\n",
        "\n",
        "sorted(____, reverse=____)\n",
        "Two lists have been created for you. Can you paste them together and sort them in descending order?\n",
        "\n",
        "Note: For now, we can understand an iterable as being any collection of objects, e.g., a List.\n",
        "\n",
        "**Instructions**\n",
        "\n",
        "*  Use + to merge the contents of first and second into a new list: full.\n",
        "*  Call sorted() on full and specify the reverse argument to be True. Save the sorted list as full_sorted.\n",
        "*  Finish off by printing out full_sorted."
      ],
      "metadata": {
        "id": "ATkbgobULRc5"
      }
    },
    {
      "cell_type": "code",
      "source": [
        "# Create lists first and second\n",
        "first = [11.25, 18.0, 20.0]\n",
        "second = [10.75, 9.50]\n",
        "\n",
        "# Paste together first and second: full\n",
        "full = first + second\n",
        "\n",
        "# Sort full in descending order: full_sorted\n",
        "full_sorted = sorted(full, reverse=True)\n",
        "\n",
        "# Print out full_sorted\n",
        "print(full_sorted)"
      ],
      "metadata": {
        "colab": {
          "base_uri": "https://localhost:8080/"
        },
        "id": "8_Od1fQOrP-i",
        "outputId": "36cb3f02-8157-48be-87b1-40091d877a73"
      },
      "execution_count": null,
      "outputs": [
        {
          "output_type": "stream",
          "name": "stdout",
          "text": [
            "[20.0, 18.0, 11.25, 10.75, 9.5]\n"
          ]
        }
      ]
    },
    {
      "cell_type": "markdown",
      "source": [
        "# String Methods\n",
        "Strings come with a bunch of methods. Follow the instructions closely to discover some of them. If you want to discover them in more detail, you can always type help(str) in the IPython Shell.\n",
        "\n",
        "A string place has already been created for you to experiment with.\n",
        "\n",
        "**Instructions**![Screenshot 2024-06-04 035316.png](data:image/png;base64,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![Screenshot 2024-06-04 035316.png](data:image/png;base64,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))\n",
        "\n",
        "*  Use the upper() method on place and store the result in place_up. Use the syntax for calling methods that you learned in the previous video.\n",
        "*  Print out place and place_up. Did both change?\n",
        "*  Print out the number of o's on the variable place by calling count() on place and passing the letter 'o' as an input to the method. We're talking about the variable place, not the word \"place\"!\n",
        "\n"
      ],
      "metadata": {
        "id": "fS-49Xixscg4"
      }
    },
    {
      "cell_type": "code",
      "source": [
        "# string to experiment with: place\n",
        "place = \"poolhouse\"\n",
        "\n",
        "# Use upper() on place: place_up\n",
        "place_up = place.upper()\n",
        "\n",
        "# Print out place and place_up\n",
        "print(place)\n",
        "print(place_up)\n",
        "\n",
        "# Print out the number of o's in place\n",
        "print(place.count('o'))"
      ],
      "metadata": {
        "id": "URTOO_WQscsg",
        "colab": {
          "base_uri": "https://localhost:8080/"
        },
        "outputId": "5c2d6dd7-2f09-4342-cdd1-e4026be0aefc"
      },
      "execution_count": null,
      "outputs": [
        {
          "output_type": "stream",
          "name": "stdout",
          "text": [
            "poolhouse\n",
            "POOLHOUSE\n",
            "3\n"
          ]
        }
      ]
    },
    {
      "cell_type": "markdown",
      "source": [
        "# Import package\n",
        "As a data scientist, some notions of geometry never hurt. Let's refresh some of the basics.\n",
        "\n",
        "For a fancy clustering algorithm, you want to find the circumference,\n",
        ", and area,\n",
        ", of a circle. When the radius of the circle is r, you can calculate\n",
        " and\n",
        " as:\n",
        "\n",
        "\n",
        "In Python, the symbol for exponentiation is **. This operator raises the number to its left to the power of the number to its right. For example 3**4 is 3 to the power of 4 and will give 81.\n",
        "\n",
        "To use the constant pi, you'll need the math package. A variable r is already coded in the script. Fill in the code to calculate C and A and see how the print() functions create some nice printouts.\n",
        "\n",
        "***Instructions***\n",
        "\n",
        "*   Import the math package. Now you can access the constant pi with math.pi.\n",
        "*   Calculate the circumference of the circle and store it in C.\n",
        "*   Calculate the area of the circle and store it in A."
      ],
      "metadata": {
        "id": "kDJRBYg27Duc"
      }
    },
    {
      "cell_type": "code",
      "source": [
        "# Import the math package\n",
        "import math\n",
        "math.pi\n",
        "# Definition of radius\n",
        "r = 0.43\n",
        "\n",
        "# Calculate C\n",
        "C = 2 * r * math.pi\n",
        "\n",
        "# Calculate A\n",
        "A = math.pi * (r ** 2)\n",
        "\n",
        "# Build printout\n",
        "print(\"Circumference: \" + str(C))\n",
        "print(\"Area: \" + str(A))"
      ],
      "metadata": {
        "colab": {
          "base_uri": "https://localhost:8080/"
        },
        "id": "SaIb5WwN67z1",
        "outputId": "b371b8cb-cdd8-4e99-8bfc-4674f46b1e82"
      },
      "execution_count": null,
      "outputs": [
        {
          "output_type": "stream",
          "name": "stdout",
          "text": [
            "Circumference: 2.701769682087222\n",
            "Area: 0.5808804816487527\n"
          ]
        }
      ]
    },
    {
      "cell_type": "markdown",
      "source": [
        "# Selective import\n",
        "General imports, like import math, make all functionality from the math package available to you. However, if you decide to only use a specific part of a package, you can always make your import more selective:\n",
        "\n",
        "from math import pi\n",
        "Let's say the Moon's orbit around planet Earth is a perfect circle, with a radius r (in km) that is defined in the script.\n",
        "\n",
        "**Instructions**\n",
        "\n",
        "* Perform a selective import from the math package where you only import the radians function.\n",
        "*  Calculate the distance travelled by the Moon over 12 degrees of its orbit. Assign the result to dist. You can calculate this as r * phi, where r is the radius and phi is the angle in radians. To convert an angle in degrees to an angle in radians, use the radians() function, which you just imported.\n",
        "*  Print out dist."
      ],
      "metadata": {
        "id": "sz0g4Z47AWDb"
      }
    },
    {
      "cell_type": "code",
      "source": [
        "# Import radians function of math package\n",
        "from math import radians\n",
        "\n",
        "# Definition of radius\n",
        "r = 192500\n",
        "\n",
        "# Travel distance of Moon over 12 degrees. Store in dist.\n",
        "dist = r * radians(12)\n",
        "\n",
        "# Print out dist\n",
        "print(dist)"
      ],
      "metadata": {
        "colab": {
          "base_uri": "https://localhost:8080/"
        },
        "id": "_rJhUxGTAWP3",
        "outputId": "d1a15c16-ce00-4ef4-a318-d518d170a317"
      },
      "execution_count": null,
      "outputs": [
        {
          "output_type": "stream",
          "name": "stdout",
          "text": [
            "40317.10572106901\n"
          ]
        }
      ]
    },
    {
      "cell_type": "markdown",
      "source": [
        "# Baseball players' height\n",
        "You are a huge baseball fan. You decide to call the MLB (Major League Baseball) and ask around for some more statistics on the height of the main players. They pass along data on more than a thousand players, which is stored as a regular Python list: height_in. The height is expressed in inches. Can you make a numpy array out of it and convert the units to meters?\n",
        "\n",
        "height_in is already available and the numpy package is loaded, so you can start straight away (Source: stat.ucla.edu).\n",
        "\n",
        "**Instructions**\n",
        "* Create a numpy array from height_in. Name this new array np_height_in.\n",
        "Print np_height_in.\n",
        "* Multiply np_height_in with 0.0254 to convert all height measurements from inches to meters. Store the new values in a new array, np_height_m.\n",
        "* Print out np_height_m and check if the output makes sense."
      ],
      "metadata": {
        "id": "iiLa4pOkAqyX"
      }
    },
    {
      "cell_type": "code",
      "source": [
        "# Import numpy\n",
        "import numpy as np\n",
        "\n",
        "# Create a numpy array from height_in: np_height_in\n",
        "np_height_in = np.array(height_in)\n",
        "\n",
        "# Print out np_height_in\n",
        "print(np_height_in)\n",
        "\n",
        "# Convert np_height_in to m: np_height_m\n",
        "np_height_m = np_height_in * 0.0254\n",
        "\n",
        "# Print np_height_m\n",
        "print(np_height_m)"
      ],
      "metadata": {
        "colab": {
          "base_uri": "https://localhost:8080/",
          "height": 218
        },
        "id": "U1lmoUypAq8E",
        "outputId": "b9edbba1-e862-467a-b967-61d90e30cf4b"
      },
      "execution_count": null,
      "outputs": [
        {
          "output_type": "error",
          "ename": "NameError",
          "evalue": "name 'height_in' is not defined",
          "traceback": [
            "\u001b[0;31m---------------------------------------------------------------------------\u001b[0m",
            "\u001b[0;31mNameError\u001b[0m                                 Traceback (most recent call last)",
            "\u001b[0;32m<ipython-input-3-bf4538f61356>\u001b[0m in \u001b[0;36m<cell line: 5>\u001b[0;34m()\u001b[0m\n\u001b[1;32m      3\u001b[0m \u001b[0;34m\u001b[0m\u001b[0m\n\u001b[1;32m      4\u001b[0m \u001b[0;31m# Create a numpy array from height_in: np_height_in\u001b[0m\u001b[0;34m\u001b[0m\u001b[0;34m\u001b[0m\u001b[0m\n\u001b[0;32m----> 5\u001b[0;31m \u001b[0mnp_height_in\u001b[0m \u001b[0;34m=\u001b[0m \u001b[0mnp\u001b[0m\u001b[0;34m.\u001b[0m\u001b[0marray\u001b[0m\u001b[0;34m(\u001b[0m\u001b[0mheight_in\u001b[0m\u001b[0;34m)\u001b[0m\u001b[0;34m\u001b[0m\u001b[0;34m\u001b[0m\u001b[0m\n\u001b[0m\u001b[1;32m      6\u001b[0m \u001b[0;34m\u001b[0m\u001b[0m\n\u001b[1;32m      7\u001b[0m \u001b[0;31m# Print out np_height_in\u001b[0m\u001b[0;34m\u001b[0m\u001b[0;34m\u001b[0m\u001b[0m\n",
            "\u001b[0;31mNameError\u001b[0m: name 'height_in' is not defined"
          ]
        }
      ]
    },
    {
      "cell_type": "markdown",
      "source": [
        "# Baseball player's BMI\n",
        "The MLB also offers to let you analyze their weight data. Again, both are available as regular Python lists: height_in and weight_lb. height_in is in inches and weight_lb is in pounds.\n",
        "\n",
        "It's now possible to calculate the BMI of each baseball player. Python code to convert height_in to a numpy array with the correct units is already available in the workspace. Follow the instructions step by step and finish the game! height_in and weight_lb are available as regular lists.\n",
        "\n",
        "**Instructions**\n",
        "\n",
        "*  Create a numpy array from the weight_lb list with the correct units. Multiply by 0.453592 to go from pounds to kilograms. Store the resulting numpy array as np_weight_kg.\n",
        "*  Use np_height_m and np_weight_kg to calculate the BMI of each player. Use the following equation:\n",
        "Save the resulting numpy array as bmi.\n",
        "*  Print out bmi."
      ],
      "metadata": {
        "id": "PUeH1UOqFa32"
      }
    },
    {
      "cell_type": "code",
      "source": [
        "# Import numpy\n",
        "import numpy as np\n",
        "\n",
        "# Create array from height_in with metric units: np_height_m\n",
        "np_height_m = np.array(height_in) * 0.0254\n",
        "\n",
        "# Create array from weight_lb with metric units: np_weight_kg\n",
        "np_weight_kg = np.array(weight_lb) * 0.453592\n",
        "\n",
        "# Calculate the BMI: bmi\n",
        "BMI = np_weight_kg/(np_height_m ** 2)\n",
        "\n",
        "# Print out bmi\n",
        "print(BMI)"
      ],
      "metadata": {
        "id": "6dqm-BWbFbCv",
        "colab": {
          "base_uri": "https://localhost:8080/",
          "height": 218
        },
        "outputId": "f5615bce-58b3-4c91-ae92-54a4d7ab0de7"
      },
      "execution_count": 1,
      "outputs": [
        {
          "output_type": "error",
          "ename": "NameError",
          "evalue": "name 'height_in' is not defined",
          "traceback": [
            "\u001b[0;31m---------------------------------------------------------------------------\u001b[0m",
            "\u001b[0;31mNameError\u001b[0m                                 Traceback (most recent call last)",
            "\u001b[0;32m<ipython-input-1-3460ffedc871>\u001b[0m in \u001b[0;36m<cell line: 5>\u001b[0;34m()\u001b[0m\n\u001b[1;32m      3\u001b[0m \u001b[0;34m\u001b[0m\u001b[0m\n\u001b[1;32m      4\u001b[0m \u001b[0;31m# Create array from height_in with metric units: np_height_m\u001b[0m\u001b[0;34m\u001b[0m\u001b[0;34m\u001b[0m\u001b[0m\n\u001b[0;32m----> 5\u001b[0;31m \u001b[0mnp_height_m\u001b[0m \u001b[0;34m=\u001b[0m \u001b[0mnp\u001b[0m\u001b[0;34m.\u001b[0m\u001b[0marray\u001b[0m\u001b[0;34m(\u001b[0m\u001b[0mheight_in\u001b[0m\u001b[0;34m)\u001b[0m \u001b[0;34m*\u001b[0m \u001b[0;36m0.0254\u001b[0m\u001b[0;34m\u001b[0m\u001b[0;34m\u001b[0m\u001b[0m\n\u001b[0m\u001b[1;32m      6\u001b[0m \u001b[0;34m\u001b[0m\u001b[0m\n\u001b[1;32m      7\u001b[0m \u001b[0;31m# Create array from weight_lb with metric units: np_weight_kg\u001b[0m\u001b[0;34m\u001b[0m\u001b[0;34m\u001b[0m\u001b[0m\n",
            "\u001b[0;31mNameError\u001b[0m: name 'height_in' is not defined"
          ]
        }
      ]
    },
    {
      "cell_type": "markdown",
      "source": [
        "# Lightweight baseball players\n",
        "To subset both regular Python lists and numpy arrays, you can use square brackets:\n",
        "\n",
        "x = [4 , 9 , 6, 3, 1]\n",
        "x[1]\n",
        "import numpy as np\n",
        "y = np.array(x)\n",
        "y[1]\n",
        "For numpy specifically, you can also use boolean numpy arrays:\n",
        "\n",
        "high = y > 5\n",
        "y[high]\n",
        "The code that calculates the BMI of all baseball players is already included. Follow the instructions and reveal interesting things from the data! height_in and weight_lb are available as regular lists.\n",
        "\n",
        "**Instructions**\n",
        "\n",
        "* Create a boolean numpy array: the element of the array should be True if the corresponding baseball player's BMI is below 21. You can use the < operator for this. Name the array light.\n",
        "* Print the array light.\n",
        "* Print out a numpy array with the BMIs of all baseball players whose BMI is below 21. Use light inside square brackets to do a selection on the bmi array."
      ],
      "metadata": {
        "id": "1-9apmkzTGMe"
      }
    },
    {
      "cell_type": "code",
      "source": [
        "# Import numpy\n",
        "import numpy as np\n",
        "\n",
        "# Calculate the BMI: bmi\n",
        "np_height_m = np.array(height_in) * 0.0254\n",
        "np_weight_kg = np.array(weight_lb) * 0.453592\n",
        "bmi = np_weight_kg / np_height_m ** 2\n",
        "\n",
        "# Create the light array\n",
        "light = np.array(bmi < 21)\n",
        "\n",
        "# Print out light\n",
        "print(light)\n",
        "\n",
        "# Print out BMIs of all baseball players whose BMI is below 21\n",
        "print(bmi[light])"
      ],
      "metadata": {
        "id": "d7VNKJiCTGgA"
      },
      "execution_count": null,
      "outputs": []
    },
    {
      "cell_type": "markdown",
      "source": [
        "# Subsetting NumPy Arrays\n",
        "You've seen it with your own eyes: Python lists and numpy arrays sometimes behave differently. Luckily, there are still certainties in this world. For example, subsetting (using the square bracket notation on lists or arrays) works exactly the same. To see this for yourself, try the following lines of code in the IPython Shell:\n",
        "\n",
        "x = [\"a\", \"b\", \"c\"]\n",
        "x[1]\n",
        "\n",
        "np_x = np.array(x)\n",
        "np_x[1]\n",
        "The script in the editor already contains code that imports numpy as np, and stores both the height and weight of the MLB players as numpy arrays. height_in and weight_lb are available as regular lists.\n",
        "\n",
        "**Instructions**\n",
        "\n",
        "* Subset np_weight_lb by printing out the element at index 50.\n",
        "* Print out a sub-array of np_height_in that contains the elements at index 100 up to and including index 110."
      ],
      "metadata": {
        "id": "UBjihKaPTcJM"
      }
    },
    {
      "cell_type": "code",
      "source": [
        "# Import numpy\n",
        "import numpy as np\n",
        "\n",
        "# Store weight and height lists as numpy arrays\n",
        "np_weight_lb = np.array(weight_lb)\n",
        "np_height_in = np.array(height_in)\n",
        "\n",
        "# Print out the weight at index 50\n",
        "print(np_weight_lb[50])\n",
        "\n",
        "# Print out sub-array of np_height_in: index 100 up to and including index 110\n",
        "print(np_height_in[100:111])"
      ],
      "metadata": {
        "id": "tXPcUfGGTiRa"
      },
      "execution_count": null,
      "outputs": []
    },
    {
      "cell_type": "markdown",
      "source": [
        "# Your First 2D NumPy Array\n",
        "Before working on the actual MLB data, let's try to create a 2D numpy array from a small list of lists.\n",
        "\n",
        "In this exercise, baseball is a list of lists. The main list contains 4 elements. Each of these elements is a list containing the height and the weight of 4 baseball players, in this order. baseball is already coded for you in the script.\n",
        "\n",
        "**Instructions**\n",
        "\n",
        "* Use np.array() to create a 2D numpy array from baseball. Name it np_baseball.\n",
        "* Print out the type of np_baseball.\n",
        "* Print out the shape attribute of np_baseball. Use np_baseball.shape."
      ],
      "metadata": {
        "id": "ff6Nr1doBHii"
      }
    },
    {
      "cell_type": "code",
      "source": [
        "# Import numpy\n",
        "import numpy as np\n",
        "\n",
        "# Create baseball, a list of lists\n",
        "baseball = [[180, 78.4],\n",
        "            [215, 102.7],\n",
        "            [210, 98.5],\n",
        "            [188, 75.2]]\n",
        "\n",
        "# Create a 2D numpy array from baseball: np_baseball\n",
        "np_baseball = np.array(baseball)\n",
        "\n",
        "# Print out the type of np_baseball\n",
        "print(type(np_baseball))\n",
        "\n",
        "# Print out the shape of np_baseball\n",
        "print(np_baseball.shape)"
      ],
      "metadata": {
        "id": "KQT8k27yBHs_"
      },
      "execution_count": null,
      "outputs": []
    },
    {
      "cell_type": "markdown",
      "source": [
        "# Baseball data in 2D form\n",
        "You have another look at the MLB data and realize that it makes more sense to restructure all this information in a 2D numpy array. This array should have 1015 rows, corresponding to the 1015 baseball players you have information on, and 2 columns (for height and weight).\n",
        "\n",
        "The MLB was, again, very helpful and passed you the data in a different structure, a Python list of lists. In this list of lists, each sublist represents the height and weight of a single baseball player. The name of this embedded list is baseball.\n",
        "\n",
        "Can you store the data as a 2D array to unlock numpy's extra functionality? baseball is available as a regular list of lists.\n",
        "\n",
        "**Instructions**\n",
        "\n",
        "* Use np.array() to create a 2D numpy array from baseball. Name it np_baseball.\n",
        "* Print out the shape attribute of np_baseball."
      ],
      "metadata": {
        "id": "lL9dlJ4bMtKY"
      }
    },
    {
      "cell_type": "code",
      "source": [
        "# Import numpy package\n",
        "import numpy as np\n",
        "\n",
        "# Create a 2D numpy array from baseball: np_baseball\n",
        "np_baseball = np.array(baseball)\n",
        "\n",
        "# Print out the shape of np_baseball\n",
        "print(np_baseball.shape)"
      ],
      "metadata": {
        "id": "KfI7HdI1MtWK"
      },
      "execution_count": null,
      "outputs": []
    },
    {
      "cell_type": "markdown",
      "source": [
        "# Subsetting 2D NumPy Arrays\n",
        "If your 2D numpy array has a regular structure, i.e. each row and column has a fixed number of values, complicated ways of subsetting become very easy. Have a look at the code below where the elements \"a\" and \"c\" are extracted from a list of lists.\n",
        "\n",
        "# regular list of lists\n",
        "x = [[\"a\", \"b\"], [\"c\", \"d\"]]\n",
        "[x[0][0], x[1][0]]\n",
        "\n",
        "# numpy\n",
        "import numpy as np\n",
        "np_x = np.array(x)\n",
        "np_x[:, 0]\n",
        "For regular Python lists, this is a real pain. For 2D numpy arrays, however, it's pretty intuitive! The indexes before the comma refer to the rows, while those after the comma refer to the columns. The : is for slicing; in this example, it tells Python to include all rows.\n",
        "\n",
        "The code that converts the pre-loaded baseball list to a 2D numpy array is already in the script. The first column contains the players' height in inches and the second column holds player weight, in pounds. Add some lines to make the correct selections. Remember that in Python, the first element is at index 0! baseball is available as a regular list of lists.\n",
        "\n",
        "**Instructions**\n",
        "\n",
        "* Print out the 50th row of np_baseball.\n",
        "* Make a new variable, np_weight_lb, containing the entire second column of np_baseball.\n",
        "* Select the height (first column) of the 124th baseball player in np_baseball and print it out."
      ],
      "metadata": {
        "id": "cZpeaWbDNA93"
      }
    },
    {
      "cell_type": "code",
      "source": [
        "# Import numpy package\n",
        "import numpy as np\n",
        "\n",
        "# Create np_baseball (2 cols)\n",
        "np_baseball = np.array(baseball)\n",
        "\n",
        "# Print out the 50th row of np_baseball\n",
        "print(np_baseball[49,:])\n",
        "\n",
        "# Select the entire second column of np_baseball: np_weight_lb\n",
        "np_weight_lb = np_baseball[:,1]\n",
        "\n",
        "# Print out height of 124th player\n",
        "print(np_baseball[123,:])"
      ],
      "metadata": {
        "id": "UAp8hsLYNBMZ"
      },
      "execution_count": null,
      "outputs": []
    },
    {
      "cell_type": "markdown",
      "source": [
        "# 2D Arithmetic\n",
        "Remember how you calculated the Body Mass Index for all baseball players? numpy was able to perform all calculations element-wise (i.e. element by element). For 2D numpy arrays this isn't any different! You can combine matrices with single numbers, with vectors, and with other matrices.\n",
        "\n",
        "Execute the code below in the IPython shell and see if you understand:\n",
        "\n",
        "import numpy as np\n",
        "np_mat = np.array([[1, 2],\n",
        "                   [3, 4],\n",
        "                   [5, 6]])\n",
        "np_mat * 2\n",
        "np_mat + np.array([10, 10])\n",
        "np_mat + np_mat\n",
        "np_baseball is coded for you; it's again a 2D numpy array with 3 columns representing height (in inches), weight (in pounds) and age (in years). baseball is available as a regular list of lists and updated is available as 2D numpy array.\n",
        "\n",
        "**Instructions**\n",
        "\n",
        "* You managed to get hold of the changes in height, weight and age of all baseball players. It is available as a 2D numpy array, updated. Add np_baseball and updated and print out the result.\n",
        "* You want to convert the units of height and weight to metric (meters and kilograms, respectively). As a first step, create a numpy array with three values: 0.0254, 0.453592 and 1. Name this array conversion.\n",
        "* Multiply np_baseball with conversion and print out the result."
      ],
      "metadata": {
        "id": "j2VTEr94N-DT"
      }
    },
    {
      "cell_type": "code",
      "source": [
        "# Import numpy package\n",
        "import numpy as np\n",
        "\n",
        "# Create np_baseball (3 cols)\n",
        "np_baseball = np.array(baseball)\n",
        "\n",
        "# Print out addition of np_baseball and updated\n",
        "print(np_baseball + updated)\n",
        "\n",
        "# Create numpy array: conversion\n",
        "conversion = np.array([0.0254, 0.453592, 1])\n",
        "\n",
        "# Print out product of np_baseball and conversion\n",
        "print(np_baseball * conversion)"
      ],
      "metadata": {
        "id": "QLv9ATaCN-PT"
      },
      "execution_count": null,
      "outputs": []
    },
    {
      "cell_type": "markdown",
      "source": [
        "# Average versus median\n",
        "You now know how to use numpy functions to get a better feeling for your data. It basically comes down to importing numpy and then calling several simple functions on the numpy arrays:\n",
        "\n",
        "import numpy as np\n",
        "x = [1, 4, 8, 10, 12]\n",
        "np.mean(x)\n",
        "np.median(x)\n",
        "The baseball data is available as a 2D numpy array with 3 columns (height, weight, age) and 1015 rows. The name of this numpy array is np_baseball. After restructuring the data, however, you notice that some height values are abnormally high. Follow the instructions and discover which summary statistic is best suited if you're dealing with so-called outliers. np_baseball is available.\n",
        "\n",
        "**Instructions**\n",
        "\n",
        "* Create numpy array np_height_in that is equal to first column of np_baseball.\n",
        "* Print out the mean of np_height_in.\n",
        "* Print out the median of np_height_in."
      ],
      "metadata": {
        "id": "Iea6mMqrQbRH"
      }
    },
    {
      "cell_type": "code",
      "source": [
        "# Import numpy\n",
        "import numpy as np\n",
        "\n",
        "# Create np_height_in from np_baseball\n",
        "np_height_in = np.array(np_baseball[:,0])\n",
        "\n",
        "# Print out the mean of np_height_in\n",
        "print(np.mean(np_height_in))\n",
        "\n",
        "# Print out the median of np_height_in\n",
        "print(np.median(np_height_in))"
      ],
      "metadata": {
        "id": "UrJ2uuo1Qbbi"
      },
      "execution_count": null,
      "outputs": []
    },
    {
      "cell_type": "markdown",
      "source": [
        "# Explore the baseball data\n",
        "Because the mean and median are so far apart, you decide to complain to the MLB. They find the error and send the corrected data over to you. It's again available as a 2D NumPy array np_baseball, with three columns.\n",
        "\n",
        "The Python script in the editor already includes code to print out informative messages with the different summary statistics. Can you finish the job? np_baseball is available.\n",
        "\n",
        "**Instructions**\n",
        "\n",
        "* The code to print out the mean height is already included. Complete the code for the median height. Replace None with the correct code.\n",
        "* Use np.std() on the first column of np_baseball to calculate stddev. Replace None with the correct code.\n",
        "* Do big players tend to be heavier? Use np.corrcoef() to store the correlation between the first and second column of np_baseball in corr. Replace None with the correct code."
      ],
      "metadata": {
        "id": "hLfUA6FvQlel"
      }
    },
    {
      "cell_type": "code",
      "source": [
        "# Import numpy\n",
        "import numpy as np\n",
        "\n",
        "# Print mean height (first column)\n",
        "avg = np.mean(np_baseball[:,0])\n",
        "print(\"Average: \" + str(avg))\n",
        "\n",
        "# Print median height. Replace 'None'\n",
        "med = np.median(np_baseball)\n",
        "print(\"Median: \" + str(med))\n",
        "\n",
        "# Print out the standard deviation on height. Replace 'None'\n",
        "stddev = np.std(np_baseball[:,0])\n",
        "print(\"Standard Deviation: \" + str(stddev))\n",
        "\n",
        "# Print out correlation between first and second column. Replace 'None'\n",
        "corr = np.corrcoef((np_baseball[:,0]), (np_baseball[:,1]))\n",
        "print(\"Correlation: \" + str(corr))"
      ],
      "metadata": {
        "id": "64IFDFYJQln8"
      },
      "execution_count": null,
      "outputs": []
    },
    {
      "cell_type": "markdown",
      "source": [
        "# Blend it all together\n",
        "In the last few exercises you've learned everything there is to know about heights and weights of baseball players. Now it's time to dive into another sport: soccer.\n",
        "\n",
        "You've contacted FIFA for some data and they handed you two lists. The lists are the following:\n",
        "\n",
        "positions = ['GK', 'M', 'A', 'D', ...]\n",
        "heights = [191, 184, 185, 180, ...]\n",
        "Each element in the lists corresponds to a player. The first list, positions, contains strings representing each player's position. The possible positions are: 'GK' (goalkeeper), 'M' (midfield), 'A' (attack) and 'D' (defense). The second list, heights, contains integers representing the height of the player in cm. The first player in the lists is a goalkeeper and is pretty tall (191 cm).\n",
        "\n",
        "You're fairly confident that the median height of goalkeepers is higher than that of other players on the soccer field. Some of your friends don't believe you, so you are determined to show them using the data you received from FIFA and your newly acquired Python skills. heights and positions are available as lists\n",
        "\n",
        "**Instructions**\n",
        "\n",
        "* Convert heights and positions, which are regular lists, to numpy arrays. Call them np_heights and np_positions.\n",
        "Extract all the heights of the goalkeepers. You can use a little trick here: use np_positions == 'GK' as an index for np_heights. Assign the result to gk_heights.\n",
        "* Extract all the heights of all the other players. This time use np_positions != 'GK' as an index for np_heights. Assign the result to other_heights.\n",
        "* Print out the median height of the goalkeepers using np.median(). Replace None with the correct code.\n",
        "* Do the same for the other players. Print out their median height. Replace None with the correct code."
      ],
      "metadata": {
        "id": "Knv0v5-TS4px"
      }
    },
    {
      "cell_type": "code",
      "source": [
        "# Import numpy\n",
        "import numpy as np\n",
        "\n",
        "# Convert positions and heights to numpy arrays: np_positions, np_heights\n",
        "np_positions = np.array(positions)\n",
        "np_heights = np.array(heights)\n",
        "\n",
        "# Heights of the goalkeepers: gk_heights\n",
        "gk_heights = np_heights[np_positions == 'GK']\n",
        "\n",
        "# Heights of the other players: other_heights\n",
        "other_heights = np_heights[np_positions != 'GK']\n",
        "\n",
        "# Print out the median height of goalkeepers. Replace 'None'\n",
        "print(\"Median height of goalkeepers: \" + str(np.median(gk_heights)))\n",
        "\n",
        "# Print out the median height of other players. Replace 'None'\n",
        "print(\"Median height of other players: \" + str(np.median(other_heights)))"
      ],
      "metadata": {
        "id": "dmnH3N8tS4z7"
      },
      "execution_count": null,
      "outputs": []
    }
  ]
}