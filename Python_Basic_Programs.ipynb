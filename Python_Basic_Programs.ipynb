{
  "cells": [
    {
      "cell_type": "markdown",
      "source": [
        "Factorial using loop"
      ],
      "metadata": {
        "id": "vA3W51Z6ublZ"
      }
    },
    {
      "cell_type": "code",
      "source": [
        "#Factorial\n",
        "f = 1\n",
        "a = int(input(\"Enter a number:\"))\n",
        "if a<0:\n",
        "  print(\"Factorial can not be fined\")\n",
        "elif a==0:\n",
        "  print(\"Factorial of a is 1\")\n",
        "else:\n",
        "  for i in range (1,a+1):\n",
        "    f = f+i\n",
        "    print(\"Factorial of a number is \",f)\n",
        "\n"
      ],
      "metadata": {
        "id": "XwwOQpz4uUaZ",
        "outputId": "65339361-6951-4e6e-9359-8c61aa812196",
        "colab": {
          "base_uri": "https://localhost:8080/"
        }
      },
      "execution_count": null,
      "outputs": [
        {
          "output_type": "stream",
          "name": "stdout",
          "text": [
            "Enter a number:1\n",
            "Factorial of a number is  2\n"
          ]
        }
      ]
    },
    {
      "cell_type": "markdown",
      "source": [
        "Fibonacci Series"
      ],
      "metadata": {
        "id": "hbsfjbpUyqmf"
      }
    },
    {
      "cell_type": "code",
      "source": [
        "First = 0\n",
        "Second = 1\n",
        "print(First)\n",
        "print(Second)\n",
        "for i in range (2,10):\n",
        "    next = First+Second\n",
        "    First=Second\n",
        "    Second=next\n",
        "    print(next)\n"
      ],
      "metadata": {
        "colab": {
          "base_uri": "https://localhost:8080/"
        },
        "id": "KdH4fznjyqxX",
        "outputId": "30244f91-d244-41bf-94a1-98bdfe605f05"
      },
      "execution_count": null,
      "outputs": [
        {
          "output_type": "stream",
          "name": "stdout",
          "text": [
            "0\n",
            "1\n",
            "1\n",
            "2\n",
            "3\n",
            "5\n",
            "8\n",
            "13\n",
            "21\n",
            "34\n"
          ]
        }
      ]
    },
    {
      "cell_type": "markdown",
      "source": [
        "Swapping of two numbers"
      ],
      "metadata": {
        "id": "aeWa5d835qph"
      }
    },
    {
      "cell_type": "code",
      "source": [
        "a = int(input(\"enter a num: \"))\n",
        "b = int(input(\"enter a num: \"))\n",
        "c=a\n",
        "a=b\n",
        "b=c\n",
        "print(\"The value of a is \",a)\n",
        "print(\"The value of b is \",b)"
      ],
      "metadata": {
        "colab": {
          "base_uri": "https://localhost:8080/"
        },
        "id": "W37CnYpj5rT3",
        "outputId": "833f242c-8bec-431d-8cec-f8c3c5fa5441"
      },
      "execution_count": null,
      "outputs": [
        {
          "output_type": "stream",
          "name": "stdout",
          "text": [
            "enter a num: 5\n",
            "enter a num: 10\n",
            "The value of a is  10\n",
            "The value of b is  5\n"
          ]
        }
      ]
    },
    {
      "cell_type": "markdown",
      "source": [
        "Reversal of a String"
      ],
      "metadata": {
        "id": "mASr4QfqWCCG"
      }
    },
    {
      "cell_type": "code",
      "source": [
        "string = \"Welcome to Great Learning\"\n",
        "a = string.split()\n",
        "print(a)\n",
        "a =a[-1: :-1]#[start:stop:count]\n",
        "print(a)\n",
        "finalstr =\". \".join(a)\n",
        "print(finalstr)"
      ],
      "metadata": {
        "colab": {
          "base_uri": "https://localhost:8080/"
        },
        "id": "arRTFsZpWCKd",
        "outputId": "b5ed93e3-b373-4103-8f3b-cdc268313b5d"
      },
      "execution_count": null,
      "outputs": [
        {
          "output_type": "stream",
          "name": "stdout",
          "text": [
            "['Welcome', 'to', 'Great', 'Learning']\n",
            "['Learning', 'Great', 'to', 'Welcome']\n",
            "Learning. Great. to. Welcome\n"
          ]
        }
      ]
    },
    {
      "cell_type": "code",
      "source": [
        "string = \"Welcome to Great Learning\"\n",
        "a = string.split()\n",
        "print(a)\n",
        "a =a[: :-1]# it weill take value from the reverse side\n",
        "print(a)\n",
        "finalstr =\". \".join(a)\n",
        "print(finalstr)"
      ],
      "metadata": {
        "colab": {
          "base_uri": "https://localhost:8080/"
        },
        "id": "3gMZ2mKYX48M",
        "outputId": "66f00e52-d095-4c0c-f73b-937b3482d7ea"
      },
      "execution_count": null,
      "outputs": [
        {
          "output_type": "stream",
          "name": "stdout",
          "text": [
            "['Welcome', 'to', 'Great', 'Learning']\n",
            "['Learning', 'Great', 'to', 'Welcome']\n",
            "Learning. Great. to. Welcome\n"
          ]
        }
      ]
    },
    {
      "cell_type": "markdown",
      "source": [
        "Prime Number"
      ],
      "metadata": {
        "id": "rdUV5vYIYUZf"
      }
    },
    {
      "cell_type": "code",
      "source": [
        "no = 19\n",
        "for i in range(2,no):\n",
        "  if no % i == 0:\n",
        "    print(\"Its not a prime\")\n",
        "else:\n",
        "  print(\"Its a prime\")\n"
      ],
      "metadata": {
        "colab": {
          "base_uri": "https://localhost:8080/"
        },
        "id": "cWPPn9isYKIM",
        "outputId": "14fc83e5-e676-4ee1-e68e-635e394c1061"
      },
      "execution_count": null,
      "outputs": [
        {
          "output_type": "stream",
          "name": "stdout",
          "text": [
            "Its a prime\n"
          ]
        }
      ]
    },
    {
      "cell_type": "markdown",
      "source": [
        "**Armstrong Number**\n",
        "\n",
        "ex: 143 = (1)^3+(4)^3+(3)^3; n=3,\n",
        "result 143=143,\n",
        "then its a armstong number\n",
        "\n",
        "![sddf.PNG](data:image/png;base64,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)"
      ],
      "metadata": {
        "id": "fWe1IrO9an21"
      }
    },
    {
      "cell_type": "code",
      "source": [
        "number=int(input(\"Enter a Number: \"))\n",
        "sum=0\n",
        "order = len(str(number))\n",
        "a =number\n",
        "while(number>0):\n",
        "  digit=number%10\n",
        "  sum=sum+digit**order\n",
        "  number = number//10\n",
        "if(sum==a):\n",
        "  print(\"Armstrong Number\")\n",
        "else:\n",
        "  print(\"Not a armnstrong number\")\n"
      ],
      "metadata": {
        "colab": {
          "base_uri": "https://localhost:8080/"
        },
        "id": "aRNSFX9fap71",
        "outputId": "7e68099a-214a-4acb-cf83-9df68d269ea8"
      },
      "execution_count": null,
      "outputs": [
        {
          "output_type": "stream",
          "name": "stdout",
          "text": [
            "Enter a Number: 153\n",
            "Armstrong Number\n"
          ]
        }
      ]
    },
    {
      "cell_type": "markdown",
      "source": [
        "Call by Value and Reference"
      ],
      "metadata": {
        "id": "9kDujyJSEjHz"
      }
    },
    {
      "cell_type": "code",
      "source": [
        "def edtech(string):\n",
        "  string=\"Welcome to Great Learning\"\n",
        "  print(\"inside\",string)\n",
        "string=\"GL\"\n",
        "print(\"outside\",string)\n",
        "edtech(string)"
      ],
      "metadata": {
        "colab": {
          "base_uri": "https://localhost:8080/"
        },
        "id": "1CQ51lziEjSt",
        "outputId": "a7e4619b-842a-46f1-ea90-29cf532768a9"
      },
      "execution_count": null,
      "outputs": [
        {
          "output_type": "stream",
          "name": "stdout",
          "text": [
            "outside GL\n",
            "inside Welcome to Great Learning\n"
          ]
        }
      ]
    },
    {
      "cell_type": "code",
      "source": [
        "def edtech(set):\n",
        "  set.add(56)\n",
        "  print(\"inside\",set)\n",
        "set1={23,45,69,78}\n",
        "edtech(set1)\n",
        "print(\"outside\",set1)"
      ],
      "metadata": {
        "colab": {
          "base_uri": "https://localhost:8080/"
        },
        "id": "llcI0Es3RYw_",
        "outputId": "e6e8a7b9-90eb-4869-c585-652638dff4f9"
      },
      "execution_count": null,
      "outputs": [
        {
          "output_type": "stream",
          "name": "stdout",
          "text": [
            "inside {69, 45, 78, 23, 56}\n",
            "outside {69, 45, 78, 23, 56}\n"
          ]
        }
      ]
    },
    {
      "cell_type": "markdown",
      "source": [
        "Second largest number in a list\n"
      ],
      "metadata": {
        "id": "84Sh-gFaWMN3"
      }
    },
    {
      "cell_type": "code",
      "source": [
        " list1=[34,5,67,89,54,49]\n",
        " list1.sort()\n",
        " print(list1)\n",
        " print(list1[-2])\n",
        " "
      ],
      "metadata": {
        "id": "PGqMOaKYWMWW",
        "colab": {
          "base_uri": "https://localhost:8080/"
        },
        "outputId": "47fc5445-f797-4a80-c216-bbfef3e5cac1"
      },
      "execution_count": 2,
      "outputs": [
        {
          "output_type": "stream",
          "name": "stdout",
          "text": [
            "[5, 34, 49, 54, 67, 89]\n",
            "67\n"
          ]
        }
      ]
    },
    {
      "cell_type": "markdown",
      "source": [
        "**Palindrome**\n",
        "153=351 x\n",
        "121=121 [its reverses the same number so it a palindrome number]"
      ],
      "metadata": {
        "id": "GoSeHtRLtjtl"
      }
    },
    {
      "cell_type": "code",
      "source": [
        "number=int(input(\"Enter a number\"))\n",
        "reverse=0\n",
        "a=number\n",
        "while(number>0):\n",
        "   digit=number%10\n",
        "   reverse=reverse*10+digit\n",
        "   number = number//10\n",
        "if(a==reverse):\n",
        "  print(\"Palindrome Number\")\n",
        "else:\n",
        "  print(\"Not a palindrome number\")"
      ],
      "metadata": {
        "colab": {
          "base_uri": "https://localhost:8080/"
        },
        "id": "c0csv4kQtkJs",
        "outputId": "dca0021a-5412-440c-b3af-751b43c62b85"
      },
      "execution_count": 5,
      "outputs": [
        {
          "output_type": "stream",
          "name": "stdout",
          "text": [
            "Enter a number153\n",
            "Not a palindrome number\n"
          ]
        }
      ]
    },
    {
      "cell_type": "markdown",
      "source": [
        "Pattern Programming\n"
      ],
      "metadata": {
        "id": "b9tgUecOdAHI"
      }
    },
    {
      "cell_type": "code",
      "source": [
        "no_of_rows =7\n",
        "for i in range(7):\n",
        "  for j in range(i):\n",
        "    print(i,end=\" \")\n",
        "  print(\"\")"
      ],
      "metadata": {
        "colab": {
          "base_uri": "https://localhost:8080/"
        },
        "id": "-UoD4yw6buCu",
        "outputId": "95be638e-e56c-40be-e880-fb82ae954a96"
      },
      "execution_count": 7,
      "outputs": [
        {
          "output_type": "stream",
          "name": "stdout",
          "text": [
            "\n",
            "1 \n",
            "2 2 \n",
            "3 3 3 \n",
            "4 4 4 4 \n",
            "5 5 5 5 5 \n",
            "6 6 6 6 6 6 \n"
          ]
        }
      ]
    },
    {
      "cell_type": "code",
      "source": [
        "for i in range(5):\n",
        "  for j in range(5):\n",
        "    print(\"#\",end=\" \")\n",
        "  print()"
      ],
      "metadata": {
        "colab": {
          "base_uri": "https://localhost:8080/"
        },
        "id": "YfSiBKxPffMP",
        "outputId": "21a24913-a450-47f2-f08c-6f30e9475196"
      },
      "execution_count": 9,
      "outputs": [
        {
          "output_type": "stream",
          "name": "stdout",
          "text": [
            "# # # # # \n",
            "# # # # # \n",
            "# # # # # \n",
            "# # # # # \n",
            "# # # # # \n"
          ]
        }
      ]
    },
    {
      "cell_type": "markdown",
      "source": [
        "Pascal Triangle\n"
      ],
      "metadata": {
        "id": "UOTqCqrJf63G"
      }
    },
    {
      "cell_type": "code",
      "source": [
        "no_of_rows =5\n",
        "for i in range(no_of_rows):\n",
        "    print(' '*(no_of_rows-i),end='')\n",
        "    print(' '.join(map(str,str(11**i))))"
      ],
      "metadata": {
        "colab": {
          "base_uri": "https://localhost:8080/"
        },
        "id": "EEO1iOEDf7Bu",
        "outputId": "ba9ac431-d10e-4600-d3f2-d57ff3de1476"
      },
      "execution_count": 11,
      "outputs": [
        {
          "output_type": "stream",
          "name": "stdout",
          "text": [
            "     1\n",
            "    1 1\n",
            "   1 2 1\n",
            "  1 3 3 1\n",
            " 1 4 6 4 1\n"
          ]
        }
      ]
    },
    {
      "cell_type": "markdown",
      "source": [
        "Matrix Multiplication\n"
      ],
      "metadata": {
        "id": "a1GtCmUMikEH"
      }
    },
    {
      "cell_type": "code",
      "source": [
        "import numpy as np\n"
      ],
      "metadata": {
        "id": "a1ALrecLilHG"
      },
      "execution_count": 15,
      "outputs": []
    },
    {
      "cell_type": "code",
      "source": [
        "a = np.array([[2,5,7],[9,3,4]])\n",
        "b = np.array([[3,6,8],[5,2,1],[3,8,9]])\n",
        "c=np.dot(a,b)\n",
        "print(c)"
      ],
      "metadata": {
        "colab": {
          "base_uri": "https://localhost:8080/"
        },
        "id": "T8r1QhoUiqUn",
        "outputId": "361e543e-1d6e-424f-e001-4fe5c8526270"
      },
      "execution_count": 16,
      "outputs": [
        {
          "output_type": "stream",
          "name": "stdout",
          "text": [
            "[[ 52  78  84]\n",
            " [ 54  92 111]]\n"
          ]
        }
      ]
    }
  ],
  "metadata": {
    "colab": {
      "provenance": []
    },
    "kernelspec": {
      "display_name": "Python 3",
      "name": "python3"
    }
  },
  "nbformat": 4,
  "nbformat_minor": 0
}