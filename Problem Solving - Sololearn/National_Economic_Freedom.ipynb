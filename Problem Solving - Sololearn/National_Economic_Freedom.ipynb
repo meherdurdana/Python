{
  "nbformat": 4,
  "nbformat_minor": 0,
  "metadata": {
    "colab": {
      "provenance": []
    },
    "kernelspec": {
      "name": "python3",
      "display_name": "Python 3"
    },
    "language_info": {
      "name": "python"
    }
  },
  "cells": [
    {
      "cell_type": "markdown",
      "source": [
        "# Dictionary Functions\n",
        "\n",
        "\n",
        "You are working on data that represents the economic freedom rank by country.\n",
        "\n",
        "Each country name and rank are stored in a dictionary, with the key being the country name.\n",
        "\n",
        "Complete the program to take the country name as input and output its corresponding economic freedom rank.\n",
        "\n",
        "In case the provided country name is not present in the data, output \"Not found\"."
      ],
      "metadata": {
        "id": "utxCehf7nKdk"
      }
    },
    {
      "cell_type": "code",
      "execution_count": null,
      "metadata": {
        "id": "JeGrfl9unCLN"
      },
      "outputs": [],
      "source": [
        "data = {\n",
        "    'Singapore': 1,\n",
        "    'Ireland': 6,\n",
        "    'United Kingdom': 7,\n",
        "    'Germany': 27,\n",
        "    'Armenia': 34,\n",
        "    'United States': 17,\n",
        "    'Canada': 9,\n",
        "    'Italy': 74\n",
        "}\n",
        "key = input()\n",
        "\n",
        "# Check if the key exists in the dictionary\n",
        "if key in data:\n",
        "    # Output the corresponding value\n",
        "    print(data[key])\n",
        "else:\n",
        "   print(\"Not found\")"
      ]
    }
  ]
}