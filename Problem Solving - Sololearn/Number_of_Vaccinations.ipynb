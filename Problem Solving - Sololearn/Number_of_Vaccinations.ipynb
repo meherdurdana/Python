{
  "nbformat": 4,
  "nbformat_minor": 0,
  "metadata": {
    "colab": {
      "provenance": []
    },
    "kernelspec": {
      "name": "python3",
      "display_name": "Python 3"
    },
    "language_info": {
      "name": "python"
    }
  },
  "cells": [
    {
      "cell_type": "markdown",
      "source": [
        "**Number of Vaccinations**\n",
        "\n",
        "We have a report on the number of flu vaccinations in a class of 20 people.\n",
        "\n",
        "It has the following numbers:\n",
        "never: 5\n",
        "once: 8\n",
        "twice: 4\n",
        "3 times: 3\n",
        "\n",
        "What is the mean number of times those people have been vaccinated?\n",
        "Output the result using the print() statement.\n",
        "*italicized text*\n",
        "Hint: Think about the data this way: it contains 20 values, each representing the number of vaccinations the corresponding person had. "
      ],
      "metadata": {
        "id": "kZCjkJvLdX29"
      }
    },
    {
      "cell_type": "code",
      "source": [
        "vac_nums = [0,0,0,0,0,\n",
        "            1,1,1,1,1,1,1,1,\n",
        "            2,2,2,2,\n",
        "            3,3,3\n",
        "            ]\n",
        "never = 5\n",
        "once = 8\n",
        "twice = 4\n",
        "three_times = 3\n",
        "\n",
        "total_people = 20\n",
        "\n",
        "total_vaccinations = (never * 0) + (once * 1) + (twice * 2) + (three_times * 3)\n",
        "mean = total_vaccinations / total_people\n",
        "\n",
        "print(mean)"
      ],
      "metadata": {
        "colab": {
          "base_uri": "https://localhost:8080/"
        },
        "id": "sd9kEqxDdrw0",
        "outputId": "3f0877f0-e4e1-4855-8520-b66c8e51efbc"
      },
      "execution_count": 1,
      "outputs": [
        {
          "output_type": "stream",
          "name": "stdout",
          "text": [
            "1.25\n"
          ]
        }
      ]
    }
  ]
}