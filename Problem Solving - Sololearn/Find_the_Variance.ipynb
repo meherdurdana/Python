{
  "nbformat": 4,
  "nbformat_minor": 0,
  "metadata": {
    "colab": {
      "provenance": []
    },
    "kernelspec": {
      "name": "python3",
      "display_name": "Python 3"
    },
    "language_info": {
      "name": "python"
    }
  },
  "cells": [
    {
      "cell_type": "markdown",
      "source": [
        "**Number of Vaccinations**\n",
        "\n",
        "\n",
        "Using the same vaccinations dataset, which includes the number of times people got the flu vaccine.\n",
        "The dataset contains the following numbers:\n",
        "never: 5\n",
        "once: 8\n",
        "twice: 4\n",
        "3 times: 3\n",
        "\n",
        "Calculate and output the variance.\n",
        "We will soon learn about easier ways to calculate the variance and other summary statistics using Python. For now, use Python code to calculate the result using the corresponding equation.\n",
        "Hint: The variance is the average of the squared differences from the mean."
      ],
      "metadata": {
        "id": "kZCjkJvLdX29"
      }
    },
    {
      "cell_type": "code",
      "source": [
        "vac_nums = [0,0,0,0,0,\n",
        "            1,1,1,1,1,1,1,1,\n",
        "            2,2,2,2,\n",
        "            3,3,3\n",
        "            ]\n",
        "#your code goes here\n",
        "never = 5\n",
        "once = 8\n",
        "twice = 4\n",
        "three_times = 3\n",
        "total_people = 20\n",
        "\n",
        "# Calculate the mean\n",
        "total_vaccinations = (never * 0) + (once * 1) + (twice * 2) + (three_times * 3)\n",
        "mean = total_vaccinations / total_people\n",
        "\n",
        "# Calculate the variance\n",
        "variance = ((never * ((0 - mean) ** 2)) + (once * ((1 - mean) ** 2)) + (twice * ((2 - mean) ** 2)) + (three_times * ((3 - mean) ** 2))) / total_people\n",
        "\n",
        "print(variance)"
      ],
      "metadata": {
        "colab": {
          "base_uri": "https://localhost:8080/"
        },
        "id": "sd9kEqxDdrw0",
        "outputId": "5fe43a6b-2034-461b-b8f8-9fc552be8f6b"
      },
      "execution_count": 2,
      "outputs": [
        {
          "output_type": "stream",
          "name": "stdout",
          "text": [
            "0.9875\n"
          ]
        }
      ]
    }
  ]
}