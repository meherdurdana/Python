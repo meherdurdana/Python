{
  "nbformat": 4,
  "nbformat_minor": 0,
  "metadata": {
    "colab": {
      "provenance": []
    },
    "kernelspec": {
      "name": "python3",
      "display_name": "Python 3"
    },
    "language_info": {
      "name": "python"
    }
  },
  "cells": [
    {
      "cell_type": "markdown",
      "source": [
        "#Dictionaries\n",
        "\n",
        "You are working at a car dealership and store the car data in a dictionary:\n",
        "\n",
        "car = {\n",
        "    'brand': 'BMW',\n",
        "    'year': 2018,\n",
        "    'color': 'red'\n",
        "}\n",
        "PY\n",
        "Your program needs to take the key as input and output the corresponding value.\n",
        "\n",
        "**Sample Input**\n",
        "\n",
        "year\n",
        "\n",
        "**Sample Output**\n",
        "\n",
        "2018\n",
        "\n"
      ],
      "metadata": {
        "id": "xq6YejOg_HmN"
      }
    },
    {
      "cell_type": "code",
      "execution_count": 1,
      "metadata": {
        "id": "MMXgGZH-okU6",
        "colab": {
          "base_uri": "https://localhost:8080/"
        },
        "outputId": "72a28c34-993f-4c96-9c7f-617a30e4cfde"
      },
      "outputs": [
        {
          "output_type": "stream",
          "name": "stdout",
          "text": [
            "brand\n",
            "BMW\n"
          ]
        }
      ],
      "source": [
        "car = {\n",
        "    'brand': 'BMW',\n",
        "    'year': 2018,\n",
        "    'color': 'red',\n",
        "    'mileage': 15000\n",
        "}\n",
        "key = input()\n",
        "\n",
        "# Check if the key exists in the dictionary\n",
        "if key in car:\n",
        "    # Output the corresponding value\n",
        "    print(car[key])\n",
        "#else:\n",
        "   #print(\"Key not found.\")"
      ]
    }
  ]
}