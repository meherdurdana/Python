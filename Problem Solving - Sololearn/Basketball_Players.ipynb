{
  "nbformat": 4,
  "nbformat_minor": 0,
  "metadata": {
    "colab": {
      "provenance": []
    },
    "kernelspec": {
      "name": "python3",
      "display_name": "Python 3"
    },
    "language_info": {
      "name": "python"
    }
  },
  "cells": [
    {
      "cell_type": "markdown",
      "source": [
        "**Basketball Players**\n",
        "\n",
        "The given code includes a list of heights for various basketball players.\n",
        "You need to calculate and output how many players are in the range of one standard deviation from the mean.\n",
        "\n",
        "Hint: Output the result using the print statement."
      ],
      "metadata": {
        "id": "XE5VPcQApeIa"
      }
    },
    {
      "cell_type": "code",
      "execution_count": 1,
      "metadata": {
        "colab": {
          "base_uri": "https://localhost:8080/"
        },
        "id": "nilLp84ZB5ep",
        "outputId": "d44e5cf3-e551-4cd4-9ac6-cc072fb581ff"
      },
      "outputs": [
        {
          "output_type": "stream",
          "name": "stdout",
          "text": [
            "6\n"
          ]
        }
      ],
      "source": [
        "import numpy as np\n",
        "\n",
        "players = [180, 172, 178, 185, 190, 195, 192, 200, 210, 190]\n",
        "\n",
        "# Calculate the mean of the heights\n",
        "mean_height = sum(players) / len(players)\n",
        "\n",
        "# Calculate the standard deviation of the heights\n",
        "standard_deviation = np.std(players)\n",
        "\n",
        "# Find the players who are within one standard deviation of the mean\n",
        "players_in_range = [player for player in players if abs(player - mean_height) <= standard_deviation]\n",
        "\n",
        "# Print the number of players who are within one standard deviation of the mean\n",
        "print(len(players_in_range))"
      ]
    }
  ]
}