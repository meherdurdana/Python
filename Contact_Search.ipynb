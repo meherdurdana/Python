{
  "nbformat": 4,
  "nbformat_minor": 0,
  "metadata": {
    "colab": {
      "provenance": [],
      "authorship_tag": "ABX9TyP9chP0d8J5rGAPGFXYmA98",
      "include_colab_link": true
    },
    "kernelspec": {
      "name": "python3",
      "display_name": "Python 3"
    },
    "language_info": {
      "name": "python"
    }
  },
  "cells": [
    {
      "cell_type": "markdown",
      "metadata": {
        "id": "view-in-github",
        "colab_type": "text"
      },
      "source": [
        "<a href=\"https://colab.research.google.com/github/meherdurdana/Python/blob/main/Contact_Search.ipynb\" target=\"_parent\"><img src=\"https://colab.research.google.com/assets/colab-badge.svg\" alt=\"Open In Colab\"/></a>"
      ]
    },
    {
      "cell_type": "markdown",
      "source": [
        "# **Tuples**\n",
        "\n",
        "\n",
        "You are given a list of contacts, where each contact is represented by a tuple, with the name and age of the contact.\n",
        "\n",
        "Complete the program to get a string as input, search for the name in the list of contacts and output the age of the contact in the format presented below:\n",
        "\n",
        "**Sample Input**\n",
        "\n",
        "John\n",
        "\n",
        "**Sample Output**\n",
        "\n",
        "John is 31\n",
        "\n",
        "*If the contact is not found, the program should output \"Not Found\".*"
      ],
      "metadata": {
        "id": "jcnC6t0IoUz7"
      }
    },
    {
      "cell_type": "code",
      "execution_count": null,
      "metadata": {
        "id": "MaTI9MLYoUMs"
      },
      "outputs": [],
      "source": [
        "contacts = [\n",
        "    ('James', 42),\n",
        "    ('Amy', 24),\n",
        "    ('John', 31),\n",
        "    ('Amanda', 63),\n",
        "    ('Bob', 18)\n",
        "]\n",
        "name = input()\n",
        "\n",
        "# Search for name and age using dictionary comprehension (if found)\n",
        "result = next((f\"{n} is {a}\" for n, a in contacts if n.lower() == name.lower()), \"Not Found\")\n",
        "\n",
        "print(result)"
      ]
    }
  ]
}