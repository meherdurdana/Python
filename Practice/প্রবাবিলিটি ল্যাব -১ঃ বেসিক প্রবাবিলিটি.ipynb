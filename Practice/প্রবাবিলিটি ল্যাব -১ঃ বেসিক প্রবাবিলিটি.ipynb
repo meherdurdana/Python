{
 "cells": [
  {
   "cell_type": "code",
   "execution_count": 2,
   "id": "cbffd11a",
   "metadata": {},
   "outputs": [],
   "source": [
    "def P(favourable_outcome, total_outcome):\n",
    "  p=favourable_outcome/total_outcome\n",
    "  print(\"Probability is\",round(p, 3))"
   ]
  },
  {
   "cell_type": "code",
   "execution_count": 3,
   "id": "c8e79a80",
   "metadata": {},
   "outputs": [
    {
     "name": "stdout",
     "output_type": "stream",
     "text": [
      "Probability is 0.167\n"
     ]
    }
   ],
   "source": [
    "favourable_outcome=1\n",
    "total_outcome=6\n",
    "P(favourable_outcome, total_outcome)"
   ]
  },
  {
   "cell_type": "code",
   "execution_count": 4,
   "id": "a8d2fb89",
   "metadata": {},
   "outputs": [
    {
     "name": "stdout",
     "output_type": "stream",
     "text": [
      "Number of Trails=  100\n",
      "Head= 59\n",
      "Tail= 41\n"
     ]
    }
   ],
   "source": [
    "from random import randint \n",
    "trails= 100\n",
    "outcomes=[]\n",
    "for x in range (trails):\n",
    "  outcomes.append(randint(0,1))\n",
    "\n",
    "head=outcomes.count(0)\n",
    "tail=outcomes.count(1)\n",
    "\n",
    "print (\"Number of Trails= \", trails)\n",
    "print (\"Head=\", head)\n",
    "print (\"Tail=\", tail)"
   ]
  },
  {
   "cell_type": "code",
   "execution_count": 9,
   "id": "70a49b88",
   "metadata": {},
   "outputs": [
    {
     "name": "stdout",
     "output_type": "stream",
     "text": [
      "Number of Trails=  10000000\n",
      "One 1666253\n",
      "Two 1664349\n",
      "Three 1669729\n",
      "Four 1667906\n",
      "Five 1667107\n",
      "Six 1664656\n"
     ]
    }
   ],
   "source": [
    "trails= 10000000\n",
    "outcomes=[]\n",
    "for x in range (trails):\n",
    "  outcomes.append(randint(1,6))\n",
    "\n",
    "one=outcomes.count(1)\n",
    "two=outcomes.count(2)\n",
    "three=outcomes.count(3)\n",
    "four=outcomes.count(4)\n",
    "five=outcomes.count(5)\n",
    "six=outcomes.count(6)\n",
    "\n",
    "\n",
    "print (\"Number of Trails= \", trails)\n",
    "print (\"One\", one)\n",
    "print (\"Two\", two)\n",
    "print (\"Three\", three)\n",
    "print (\"Four\", four)\n",
    "print (\"Five\", five)\n",
    "print (\"Six\", six)"
   ]
  },
  {
   "cell_type": "code",
   "execution_count": 11,
   "id": "8a9d9d01",
   "metadata": {},
   "outputs": [],
   "source": [
    "def a_and_b(a,b,total):\n",
    "  pa=a/total\n",
    "  pb=b/total\n",
    "  ab=pa*pb\n",
    "  print(\"P(A and B)=\",round(ab, 3))"
   ]
  },
  {
   "cell_type": "code",
   "execution_count": 12,
   "id": "0b5a8690",
   "metadata": {},
   "outputs": [
    {
     "name": "stdout",
     "output_type": "stream",
     "text": [
      "P(A and B)= 0.074\n"
     ]
    }
   ],
   "source": [
    "red=2\n",
    "blue=3\n",
    "total=9\n",
    "a_and_b(red,blue,total)"
   ]
  },
  {
   "cell_type": "code",
   "execution_count": 15,
   "id": "b9691240",
   "metadata": {},
   "outputs": [],
   "source": [
    "def a_and_b_conditional(a,b,total):\n",
    "  pa=a/total\n",
    "  remaining_total=total-1\n",
    "  remaining_a_probability=b/remaining_total\n",
    "  ab=pa*remaining_a_probability\n",
    "  print(\"P(A and B)=\",round(ab, 3))"
   ]
  },
  {
   "cell_type": "code",
   "execution_count": 14,
   "id": "e5ca2747",
   "metadata": {},
   "outputs": [
    {
     "name": "stdout",
     "output_type": "stream",
     "text": [
      "P(A and B)= 0.318\n"
     ]
    }
   ],
   "source": [
    "yellow=7\n",
    "remaining_yellow=6\n",
    "total=12\n",
    "a_and_b_conditional(yellow,remaining_yellow,total)"
   ]
  },
  {
   "cell_type": "code",
   "execution_count": 16,
   "id": "691bdbf8",
   "metadata": {},
   "outputs": [],
   "source": [
    "def a_or_b(a,b,total):\n",
    "  pa=a/total\n",
    "  pb=b/total\n",
    "  ab=pa+pb  \n",
    "  print(\"P(A or B)=\",round(ab, 3))"
   ]
  },
  {
   "cell_type": "code",
   "execution_count": 17,
   "id": "b6bf5758",
   "metadata": {},
   "outputs": [
    {
     "name": "stdout",
     "output_type": "stream",
     "text": [
      "P(A or B)= 0.154\n"
     ]
    }
   ],
   "source": [
    "king=4\n",
    "queen=4\n",
    "total=52\n",
    "a_or_b(king,queen,total)"
   ]
  },
  {
   "cell_type": "code",
   "execution_count": 18,
   "id": "e60e0704",
   "metadata": {},
   "outputs": [],
   "source": [
    "def a_or_b_common(a,b,anb,total):\n",
    "  pa=a/total\n",
    "  pb=b/total\n",
    "  a_and_b=anb/total\n",
    "  ab=pa+pb-a_and_b\n",
    "  print(\"P(A or B)=\",round(ab, 3))"
   ]
  },
  {
   "cell_type": "code",
   "execution_count": 19,
   "id": "d9d07dac",
   "metadata": {},
   "outputs": [
    {
     "name": "stdout",
     "output_type": "stream",
     "text": [
      "P(A or B)= 0.567\n"
     ]
    }
   ],
   "source": [
    "Aplus=9\n",
    "girl=13\n",
    "girl_and_Aplus=5\n",
    "total=30\n",
    "a_or_b_common(Aplus,girl,girl_and_Aplus,total)"
   ]
  },
  {
   "cell_type": "code",
   "execution_count": 20,
   "id": "de193318",
   "metadata": {},
   "outputs": [],
   "source": [
    "def bayes(a,b,ba):\n",
    "  ab= a*ba/b\n",
    "  print(\"P(A | B)=\",round(ab, 3))"
   ]
  },
  {
   "cell_type": "code",
   "execution_count": 22,
   "id": "5dc2a1d6",
   "metadata": {},
   "outputs": [
    {
     "name": "stdout",
     "output_type": "stream",
     "text": [
      "P(A | B)= 0.125\n"
     ]
    }
   ],
   "source": [
    "rain=0.1\n",
    "cloud=0.4\n",
    "cloud_given_rain=0.5\n",
    "bayes(rain,cloud,cloud_given_rain)"
   ]
  },
  {
   "cell_type": "code",
   "execution_count": null,
   "id": "e40486ab",
   "metadata": {},
   "outputs": [],
   "source": []
  }
 ],
 "metadata": {
  "kernelspec": {
   "display_name": "Python 3 (ipykernel)",
   "language": "python",
   "name": "python3"
  },
  "language_info": {
   "codemirror_mode": {
    "name": "ipython",
    "version": 3
   },
   "file_extension": ".py",
   "mimetype": "text/x-python",
   "name": "python",
   "nbconvert_exporter": "python",
   "pygments_lexer": "ipython3",
   "version": "3.9.12"
  }
 },
 "nbformat": 4,
 "nbformat_minor": 5
}
