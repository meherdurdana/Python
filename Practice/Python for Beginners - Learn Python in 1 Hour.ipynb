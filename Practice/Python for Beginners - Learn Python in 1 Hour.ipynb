{
 "cells": [
  {
   "cell_type": "code",
   "execution_count": 1,
   "id": "cb2be97d",
   "metadata": {},
   "outputs": [
    {
     "name": "stdout",
     "output_type": "stream",
     "text": [
      "hello World\n"
     ]
    }
   ],
   "source": [
    "print(\"hello World\")"
   ]
  },
  {
   "cell_type": "code",
   "execution_count": 3,
   "id": "c661ad0a",
   "metadata": {},
   "outputs": [
    {
     "name": "stdout",
     "output_type": "stream",
     "text": [
      "20\n"
     ]
    }
   ],
   "source": [
    "age = 20\n",
    "print(age)"
   ]
  },
  {
   "cell_type": "code",
   "execution_count": 4,
   "id": "39ac3050",
   "metadata": {},
   "outputs": [
    {
     "name": "stdout",
     "output_type": "stream",
     "text": [
      "20\n"
     ]
    }
   ],
   "source": [
    "age = 20\n",
    "price = 19.95\n",
    "frist_name = \"Mosh\"\n",
    "is_online = False\n",
    "print(age)"
   ]
  },
  {
   "cell_type": "code",
   "execution_count": 17,
   "id": "a7b5665a",
   "metadata": {},
   "outputs": [
    {
     "name": "stdout",
     "output_type": "stream",
     "text": [
      "New patient name is John Smith.\n",
      "He is 20years old\n"
     ]
    }
   ],
   "source": [
    "age = \"20\"\n",
    "name = \"John Smith\"\n",
    "print(\"New patient name is \"+ name+ \".\")\n",
    "print(\"He is \"+ age +\"years old\")"
   ]
  },
  {
   "cell_type": "code",
   "execution_count": 6,
   "id": "7703d77e",
   "metadata": {},
   "outputs": [
    {
     "name": "stdout",
     "output_type": "stream",
     "text": [
      "What i s your name? Raisa\n"
     ]
    },
    {
     "data": {
      "text/plain": [
       "'Raisa'"
      ]
     },
     "execution_count": 6,
     "metadata": {},
     "output_type": "execute_result"
    }
   ],
   "source": [
    "input(\"What i s your name? \")"
   ]
  },
  {
   "cell_type": "code",
   "execution_count": 7,
   "id": "ca8056fb",
   "metadata": {},
   "outputs": [
    {
     "name": "stdout",
     "output_type": "stream",
     "text": [
      "What i s your name? raisa\n",
      "Hello raisa\n"
     ]
    }
   ],
   "source": [
    "name = input(\"What i s your name? \")\n",
    "print(\"Hello \"+ name)"
   ]
  },
  {
   "cell_type": "code",
   "execution_count": 22,
   "id": "751b4dbe",
   "metadata": {},
   "outputs": [
    {
     "name": "stdout",
     "output_type": "stream",
     "text": [
      "enter your birth year - 1998\n",
      "24\n"
     ]
    }
   ],
   "source": [
    "birth_year = input(\"enter your birth year - \")\n",
    "age = 2022 - int(birth_year)\n",
    "print(age)"
   ]
  },
  {
   "cell_type": "code",
   "execution_count": null,
   "id": "9a3c8ed5",
   "metadata": {},
   "outputs": [],
   "source": [
    "int()\n",
    "float()\n",
    "bool()\n",
    "str()\n"
   ]
  },
  {
   "cell_type": "code",
   "execution_count": 25,
   "id": "39892072",
   "metadata": {},
   "outputs": [
    {
     "name": "stdout",
     "output_type": "stream",
     "text": [
      "First: 10\n",
      "Second: 20.1\n",
      "Sum: 30.1\n"
     ]
    }
   ],
   "source": [
    "First = input(\"First: \")\n",
    "Second = input(\"Second: \")\n",
    "sum = float(First) + float(Second)\n",
    "print(\"Sum: \"+ str(sum))"
   ]
  },
  {
   "cell_type": "code",
   "execution_count": 26,
   "id": "5cc4fd84",
   "metadata": {},
   "outputs": [
    {
     "name": "stdout",
     "output_type": "stream",
     "text": [
      "First: 10\n",
      "Second: 20.1\n",
      "Sum: 30.1\n"
     ]
    }
   ],
   "source": [
    "First = float(input(\"First: \"))\n",
    "Second = float(input(\"Second: \"))\n",
    "sum = First + Second\n",
    "print(\"Sum: \"+ str(sum))"
   ]
  },
  {
   "cell_type": "code",
   "execution_count": 33,
   "id": "aa9697af",
   "metadata": {},
   "outputs": [
    {
     "name": "stdout",
     "output_type": "stream",
     "text": [
      "PYTHON FOR BEGINNERS\n",
      "Python for Beginners\n",
      "1\n",
      "-1\n",
      "7\n",
      "Python 4 Beginners\n",
      "Python for Beginners\n",
      "0\n"
     ]
    }
   ],
   "source": [
    "course  = 'Python for Beginners'\n",
    "print(course.upper())\n",
    "print(course)\n",
    "print(course.find('y'))\n",
    "print(course.find('Y'))\n",
    "print(course.find('for'))\n",
    "print(course.replace('for','4'))\n",
    "print(course.replace('x','4'))\n",
    "print(course.find('Python'))"
   ]
  },
  {
   "cell_type": "code",
   "execution_count": 34,
   "id": "275800fc",
   "metadata": {},
   "outputs": [
    {
     "name": "stdout",
     "output_type": "stream",
     "text": [
      "True\n"
     ]
    }
   ],
   "source": [
    "course  = 'Python for Beginners'\n",
    "print('Python' in course)"
   ]
  },
  {
   "cell_type": "markdown",
   "id": "f7f17457",
   "metadata": {},
   "source": [
    "# Arithmetic Operation"
   ]
  },
  {
   "cell_type": "code",
   "execution_count": 37,
   "id": "6c2b3a7f",
   "metadata": {},
   "outputs": [
    {
     "name": "stdout",
     "output_type": "stream",
     "text": [
      "3.3333333333333335\n",
      "3\n",
      "1\n",
      "1000\n"
     ]
    }
   ],
   "source": [
    "print(10/3)\n",
    "print(10//3)\n",
    "print(10%3)\n",
    "print(10**3)"
   ]
  },
  {
   "cell_type": "code",
   "execution_count": null,
   "id": "5651d353",
   "metadata": {},
   "outputs": [],
   "source": [
    "# Augmented assignment operator\n",
    "x = 10\n",
    "x = x+3\n",
    "x + = 3\n"
   ]
  },
  {
   "cell_type": "code",
   "execution_count": 38,
   "id": "be99085e",
   "metadata": {},
   "outputs": [
    {
     "name": "stdout",
     "output_type": "stream",
     "text": [
      "16\n"
     ]
    }
   ],
   "source": [
    "x = 10 + 3 * 2\n",
    "print(x)"
   ]
  },
  {
   "cell_type": "code",
   "execution_count": 39,
   "id": "6c2b73da",
   "metadata": {},
   "outputs": [
    {
     "name": "stdout",
     "output_type": "stream",
     "text": [
      "True\n"
     ]
    }
   ],
   "source": [
    "x = 3 > 2\n",
    "print(x)"
   ]
  },
  {
   "cell_type": "code",
   "execution_count": 40,
   "id": "0f533adb",
   "metadata": {},
   "outputs": [
    {
     "name": "stdout",
     "output_type": "stream",
     "text": [
      "True\n"
     ]
    }
   ],
   "source": [
    "x = 3 >= 2\n",
    "print(x)"
   ]
  },
  {
   "cell_type": "code",
   "execution_count": 41,
   "id": "5ccd4fc2",
   "metadata": {},
   "outputs": [
    {
     "name": "stdout",
     "output_type": "stream",
     "text": [
      "False\n"
     ]
    }
   ],
   "source": [
    "x = 3 == 2\n",
    "print(x)"
   ]
  },
  {
   "cell_type": "code",
   "execution_count": null,
   "id": "743dfe7a",
   "metadata": {},
   "outputs": [],
   "source": [
    "x = 3 != 2\n",
    "print(x)"
   ]
  },
  {
   "cell_type": "code",
   "execution_count": 44,
   "id": "ec34e0db",
   "metadata": {},
   "outputs": [
    {
     "name": "stdout",
     "output_type": "stream",
     "text": [
      "False\n"
     ]
    }
   ],
   "source": [
    "x = 3 < 2\n",
    "print(x)"
   ]
  },
  {
   "cell_type": "code",
   "execution_count": 45,
   "id": "cd557253",
   "metadata": {},
   "outputs": [
    {
     "name": "stdout",
     "output_type": "stream",
     "text": [
      "False\n"
     ]
    }
   ],
   "source": [
    "x = 3 <= 2\n",
    "print(x)"
   ]
  },
  {
   "cell_type": "markdown",
   "id": "da8a826e",
   "metadata": {},
   "source": [
    "# Logical Operator"
   ]
  },
  {
   "cell_type": "code",
   "execution_count": 46,
   "id": "5f9e5384",
   "metadata": {},
   "outputs": [
    {
     "name": "stdout",
     "output_type": "stream",
     "text": [
      "True\n"
     ]
    }
   ],
   "source": [
    "price = 25\n",
    "print(price>10 and price<30)"
   ]
  },
  {
   "cell_type": "code",
   "execution_count": 48,
   "id": "804e1b48",
   "metadata": {},
   "outputs": [
    {
     "name": "stdout",
     "output_type": "stream",
     "text": [
      "True\n"
     ]
    }
   ],
   "source": [
    "price = 5\n",
    "print(price > 10 or price < 30)"
   ]
  },
  {
   "cell_type": "code",
   "execution_count": 49,
   "id": "4d587d33",
   "metadata": {},
   "outputs": [
    {
     "name": "stdout",
     "output_type": "stream",
     "text": [
      "False\n"
     ]
    }
   ],
   "source": [
    "price = 25\n",
    "print(not price > 10)"
   ]
  },
  {
   "cell_type": "markdown",
   "id": "6a3e8d5b",
   "metadata": {},
   "source": [
    "# If Statement"
   ]
  },
  {
   "cell_type": "code",
   "execution_count": 57,
   "id": "9df206c5",
   "metadata": {},
   "outputs": [
    {
     "name": "stdout",
     "output_type": "stream",
     "text": [
      "Its a hot day\n",
      "Drink plentry of water\n",
      "Done\n"
     ]
    }
   ],
   "source": [
    "temperature = 35\n",
    "\n",
    "if temperature > 30:  \n",
    "    print(\"Its a hot day\")\n",
    "    print(\"Drink plentry of water\")\n",
    "elif temperature > 20:\n",
    "    print(\"Its a nice day\")\n",
    "elif temperature > 10:\n",
    "    print(\"Its a bit cold\")\n",
    "else:\n",
    "    print(\"Its cold\")\n",
    "\n",
    "print(\"Done\")\n"
   ]
  },
  {
   "cell_type": "code",
   "execution_count": 65,
   "id": "890cf151",
   "metadata": {},
   "outputs": [
    {
     "name": "stdout",
     "output_type": "stream",
     "text": [
      "Weight: 170\n",
      "(K)g or (L)bs: k\n",
      "Weight in Lbs: 377.77777777777777\n"
     ]
    }
   ],
   "source": [
    "weight = int(input(\"Weight: \"))\n",
    "unit = input(\"(K)g or (L)bs: \")\n",
    "\n",
    "if unit.upper() == \"K\":\n",
    "    convert =  weight / 0.45\n",
    "    print(\"Weight in Lbs: \" + str(convert))\n",
    "else:\n",
    "    convert = weight *0.45\n",
    "    print(\"Weight in Kgs: \" + str(convert))"
   ]
  },
  {
   "cell_type": "markdown",
   "id": "1d14919b",
   "metadata": {},
   "source": [
    "# while loop"
   ]
  },
  {
   "cell_type": "code",
   "execution_count": 69,
   "id": "f49d9c64",
   "metadata": {},
   "outputs": [
    {
     "name": "stdout",
     "output_type": "stream",
     "text": [
      "*\n",
      "**\n",
      "***\n",
      "****\n",
      "*****\n",
      "******\n",
      "*******\n",
      "********\n",
      "*********\n",
      "**********\n"
     ]
    }
   ],
   "source": [
    "i = 1\n",
    "while i <= 10:\n",
    "    print(i * '*')\n",
    "    i=i+1"
   ]
  },
  {
   "cell_type": "markdown",
   "id": "36b35102",
   "metadata": {},
   "source": [
    "# Lists"
   ]
  },
  {
   "cell_type": "code",
   "execution_count": 77,
   "id": "0456423e",
   "metadata": {},
   "outputs": [
    {
     "name": "stdout",
     "output_type": "stream",
     "text": [
      "['john', 'Bob', 'Mosh', 'Sam', 'Mary']\n",
      "john\n",
      "Mary\n",
      "Sam\n",
      "['Jon', 'Bob', 'Mosh', 'Sam', 'Mary']\n",
      "['Jon', 'Bob', 'Mosh']\n",
      "['Jon', 'Bob', 'Mosh', 'Sam', 'Mary']\n"
     ]
    }
   ],
   "source": [
    "names = [\"john\", \"Bob\", \"Mosh\", \"Sam\", \"Mary\"]\n",
    "print(names)\n",
    "print(names[0])\n",
    "print(names[-1])\n",
    "print(names[-2])\n",
    "names[0] = \"Jon\"\n",
    "print(names)\n",
    "print(names[0:3])\n",
    "print(names)"
   ]
  },
  {
   "cell_type": "code",
   "execution_count": null,
   "id": "bfb44e44",
   "metadata": {},
   "outputs": [],
   "source": [
    "#List Methods"
   ]
  },
  {
   "cell_type": "code",
   "execution_count": 78,
   "id": "304ef681",
   "metadata": {},
   "outputs": [
    {
     "name": "stdout",
     "output_type": "stream",
     "text": [
      "[1, 2, 3, 4, 5, 6]\n"
     ]
    }
   ],
   "source": [
    "numbers = [1,2,3,4,5]\n",
    "numbers.append(6)\n",
    "print(numbers)\n"
   ]
  },
  {
   "cell_type": "code",
   "execution_count": 79,
   "id": "681ee878",
   "metadata": {},
   "outputs": [
    {
     "name": "stdout",
     "output_type": "stream",
     "text": [
      "[-1, 1, 2, 3, 4, 5]\n"
     ]
    }
   ],
   "source": [
    "numbers = [1,2,3,4,5]\n",
    "numbers.insert(0, -1)\n",
    "print(numbers)\n"
   ]
  },
  {
   "cell_type": "code",
   "execution_count": 81,
   "id": "84e25689",
   "metadata": {},
   "outputs": [
    {
     "name": "stdout",
     "output_type": "stream",
     "text": [
      "[]\n"
     ]
    }
   ],
   "source": [
    "numbers = [1,2,3,4,5]\n",
    "numbers.clear()\n",
    "print(numbers)\n"
   ]
  },
  {
   "cell_type": "code",
   "execution_count": 80,
   "id": "8af48fe6",
   "metadata": {},
   "outputs": [
    {
     "name": "stdout",
     "output_type": "stream",
     "text": [
      "[1, 2, 4, 5]\n"
     ]
    }
   ],
   "source": [
    "numbers = [1,2,3,4,5]\n",
    "numbers.remove(3)\n",
    "print(numbers)\n"
   ]
  },
  {
   "cell_type": "code",
   "execution_count": 82,
   "id": "3a49bec7",
   "metadata": {},
   "outputs": [
    {
     "name": "stdout",
     "output_type": "stream",
     "text": [
      "True\n"
     ]
    }
   ],
   "source": [
    "numbers = [1,2,3,4,5]\n",
    "print(1 in numbers)\n"
   ]
  },
  {
   "cell_type": "code",
   "execution_count": 83,
   "id": "82fe65d4",
   "metadata": {},
   "outputs": [
    {
     "name": "stdout",
     "output_type": "stream",
     "text": [
      "5\n"
     ]
    }
   ],
   "source": [
    "numbers = [1,2,3,4,5]\n",
    "print(len(numbers))\n"
   ]
  },
  {
   "cell_type": "markdown",
   "id": "b67d3778",
   "metadata": {},
   "source": [
    "# For loop"
   ]
  },
  {
   "cell_type": "code",
   "execution_count": 86,
   "id": "6ab34d62",
   "metadata": {},
   "outputs": [
    {
     "name": "stdout",
     "output_type": "stream",
     "text": [
      "1\n",
      "2\n",
      "3\n",
      "4\n",
      "5\n",
      "[1, 2, 3, 4, 5]\n"
     ]
    }
   ],
   "source": [
    "num = [1,2,3,4,5]\n",
    "for item in num:\n",
    "    print(item)\n",
    "print(num)"
   ]
  },
  {
   "cell_type": "code",
   "execution_count": 3,
   "id": "e31be567",
   "metadata": {},
   "outputs": [
    {
     "name": "stdout",
     "output_type": "stream",
     "text": [
      "1\n",
      "2\n",
      "3\n",
      "4\n",
      "5\n",
      "1\n",
      "2\n",
      "3\n",
      "4\n",
      "5\n"
     ]
    }
   ],
   "source": [
    "#for loop\n",
    "num = [1,2,3,4,5]\n",
    "for item in num:\n",
    "    print(item)\n",
    "    \n",
    "#while loop    \n",
    "i = 0\n",
    "while i < len(num):\n",
    "    print(num[i])\n",
    "    i = i + 1"
   ]
  },
  {
   "cell_type": "markdown",
   "id": "d3057bf1",
   "metadata": {},
   "source": [
    "# The range Function"
   ]
  },
  {
   "cell_type": "code",
   "execution_count": 9,
   "id": "e201ebf5",
   "metadata": {},
   "outputs": [
    {
     "name": "stdout",
     "output_type": "stream",
     "text": [
      "0\n",
      "1\n",
      "2\n",
      "3\n",
      "4\n"
     ]
    }
   ],
   "source": [
    "nums = range(5)\n",
    "for num in nums: \n",
    "    print(num)"
   ]
  },
  {
   "cell_type": "code",
   "execution_count": 12,
   "id": "cb5c5ced",
   "metadata": {},
   "outputs": [
    {
     "name": "stdout",
     "output_type": "stream",
     "text": [
      "5\n",
      "6\n",
      "7\n",
      "8\n",
      "9\n"
     ]
    }
   ],
   "source": [
    "nums = range(5, 10)\n",
    "for num in nums: \n",
    "    print(num)"
   ]
  },
  {
   "cell_type": "code",
   "execution_count": 13,
   "id": "0099ac72",
   "metadata": {},
   "outputs": [
    {
     "name": "stdout",
     "output_type": "stream",
     "text": [
      "5\n",
      "7\n",
      "9\n"
     ]
    }
   ],
   "source": [
    "nums = range(5, 10, 2)\n",
    "for num in nums: \n",
    "    print(num)"
   ]
  },
  {
   "cell_type": "code",
   "execution_count": 15,
   "id": "5b989337",
   "metadata": {},
   "outputs": [
    {
     "name": "stdout",
     "output_type": "stream",
     "text": [
      "0\n",
      "1\n",
      "2\n",
      "3\n",
      "4\n"
     ]
    }
   ],
   "source": [
    "for num in range(5): \n",
    "    print(num)"
   ]
  },
  {
   "cell_type": "markdown",
   "id": "cb3f57e4",
   "metadata": {},
   "source": [
    "# Tuples - unchangeble"
   ]
  },
  {
   "cell_type": "code",
   "execution_count": 21,
   "id": "f88371c6",
   "metadata": {},
   "outputs": [
    {
     "data": {
      "text/plain": [
       "0"
      ]
     },
     "execution_count": 21,
     "metadata": {},
     "output_type": "execute_result"
    }
   ],
   "source": [
    "num = (1,2,3,3)\n",
    "num.count(3)\n",
    "num.index(1)"
   ]
  }
 ],
 "metadata": {
  "kernelspec": {
   "display_name": "Python 3 (ipykernel)",
   "language": "python",
   "name": "python3"
  },
  "language_info": {
   "codemirror_mode": {
    "name": "ipython",
    "version": 3
   },
   "file_extension": ".py",
   "mimetype": "text/x-python",
   "name": "python",
   "nbconvert_exporter": "python",
   "pygments_lexer": "ipython3",
   "version": "3.9.12"
  }
 },
 "nbformat": 4,
 "nbformat_minor": 5
}
