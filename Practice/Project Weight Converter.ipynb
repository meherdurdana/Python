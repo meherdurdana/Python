{
 "cells": [
  {
   "cell_type": "markdown",
   "id": "26f9c52e",
   "metadata": {},
   "source": [
    "# Project: Weight Converter"
   ]
  },
  {
   "cell_type": "code",
   "execution_count": 6,
   "id": "6c265d5e",
   "metadata": {},
   "outputs": [
    {
     "name": "stdout",
     "output_type": "stream",
     "text": [
      "Weight: 75\n",
      "(L)bs or (k)g: k\n",
      "You are 166.66666666666666 pounds\n"
     ]
    }
   ],
   "source": [
    "Weight = int(input('Weight: '))\n",
    "unit = input('(L)bs or (k)g: ')\n",
    "\n",
    "if unit.upper() == \"L\":\n",
    "    converted = Weight * 0.45\n",
    "    print(f\"You are {converted} kilos\")\n",
    "else:\n",
    "    converted = Weight / 0.45\n",
    "    print(f\"You are {converted} pounds\")\n",
    "    "
   ]
  },
  {
   "cell_type": "code",
   "execution_count": null,
   "id": "e61a22d9",
   "metadata": {},
   "outputs": [],
   "source": []
  },
  {
   "cell_type": "code",
   "execution_count": null,
   "id": "7364fc6b",
   "metadata": {},
   "outputs": [],
   "source": []
  }
 ],
 "metadata": {
  "kernelspec": {
   "display_name": "Python 3 (ipykernel)",
   "language": "python",
   "name": "python3"
  },
  "language_info": {
   "codemirror_mode": {
    "name": "ipython",
    "version": 3
   },
   "file_extension": ".py",
   "mimetype": "text/x-python",
   "name": "python",
   "nbconvert_exporter": "python",
   "pygments_lexer": "ipython3",
   "version": "3.9.12"
  }
 },
 "nbformat": 4,
 "nbformat_minor": 5
}
