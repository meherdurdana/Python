{
  "nbformat": 4,
  "nbformat_minor": 0,
  "metadata": {
    "colab": {
      "provenance": []
    },
    "kernelspec": {
      "name": "python3",
      "display_name": "Python 3"
    },
    "language_info": {
      "name": "python"
    }
  },
  "cells": [
    {
      "cell_type": "code",
      "execution_count": 20,
      "metadata": {
        "id": "xg0deb_Ice8X"
      },
      "outputs": [],
      "source": [
        "import pandas as pd\n",
        "from matplotlib import pyplot as plt\n",
        "import seaborn as sns"
      ]
    },
    {
      "cell_type": "code",
      "source": [
        "ipl=pd.read_csv('Match.csv')"
      ],
      "metadata": {
        "id": "s-FRxP0Dc46x"
      },
      "execution_count": 8,
      "outputs": []
    },
    {
      "cell_type": "code",
      "source": [
        "ipl.head()"
      ],
      "metadata": {
        "id": "pufsjAg7c5ZN",
        "colab": {
          "base_uri": "https://localhost:8080/",
          "height": 461
        },
        "outputId": "0283a756-b2cd-4194-c95b-819693eb2405"
      },
      "execution_count": 9,
      "outputs": [
        {
          "output_type": "execute_result",
          "data": {
            "text/plain": [
              "   Match_SK  match_id                        Team1  \\\n",
              "0         0    335987  Royal Challengers Bangalore   \n",
              "1         1    335988              Kings XI Punjab   \n",
              "2         2    335989             Delhi Daredevils   \n",
              "3         3    335990               Mumbai Indians   \n",
              "4         4    335991        Kolkata Knight Riders   \n",
              "\n",
              "                         Team2 match_date  Season_Year  \\\n",
              "0        Kolkata Knight Riders  4/18/2008         2008   \n",
              "1          Chennai Super Kings  4/19/2008         2008   \n",
              "2             Rajasthan Royals  4/19/2008         2008   \n",
              "3  Royal Challengers Bangalore  4/20/2008         2008   \n",
              "4              Deccan Chargers  4/20/2008         2008   \n",
              "\n",
              "                                   Venue_Name   City_Name Country_Name  \\\n",
              "0                       M Chinnaswamy Stadium   Bangalore        India   \n",
              "1  Punjab Cricket Association Stadium, Mohali  Chandigarh        India   \n",
              "2                            Feroz Shah Kotla       Delhi        India   \n",
              "3                            Wankhede Stadium      Mumbai        India   \n",
              "4                                Eden Gardens     Kolkata        India   \n",
              "\n",
              "                   Toss_Winner                 match_winner Toss_Name  \\\n",
              "0  Royal Challengers Bangalore        Kolkata Knight Riders     field   \n",
              "1          Chennai Super Kings          Chennai Super Kings       bat   \n",
              "2             Rajasthan Royals             Delhi Daredevils       bat   \n",
              "3               Mumbai Indians  Royal Challengers Bangalore       bat   \n",
              "4              Deccan Chargers        Kolkata Knight Riders       bat   \n",
              "\n",
              "  Win_Type Outcome_Type    ManOfMach  Win_Margin  Country_id  \n",
              "0     runs       Result  BB McCullum       140.0           1  \n",
              "1     runs       Result   MEK Hussey        33.0           1  \n",
              "2  wickets       Result  MF Maharoof         9.0           1  \n",
              "3  wickets       Result   MV Boucher         5.0           1  \n",
              "4  wickets       Result    DJ Hussey         5.0           1  "
            ],
            "text/html": [
              "\n",
              "  <div id=\"df-903f6ec8-28e0-4f7d-9d1f-f19c8b56e1d5\">\n",
              "    <div class=\"colab-df-container\">\n",
              "      <div>\n",
              "<style scoped>\n",
              "    .dataframe tbody tr th:only-of-type {\n",
              "        vertical-align: middle;\n",
              "    }\n",
              "\n",
              "    .dataframe tbody tr th {\n",
              "        vertical-align: top;\n",
              "    }\n",
              "\n",
              "    .dataframe thead th {\n",
              "        text-align: right;\n",
              "    }\n",
              "</style>\n",
              "<table border=\"1\" class=\"dataframe\">\n",
              "  <thead>\n",
              "    <tr style=\"text-align: right;\">\n",
              "      <th></th>\n",
              "      <th>Match_SK</th>\n",
              "      <th>match_id</th>\n",
              "      <th>Team1</th>\n",
              "      <th>Team2</th>\n",
              "      <th>match_date</th>\n",
              "      <th>Season_Year</th>\n",
              "      <th>Venue_Name</th>\n",
              "      <th>City_Name</th>\n",
              "      <th>Country_Name</th>\n",
              "      <th>Toss_Winner</th>\n",
              "      <th>match_winner</th>\n",
              "      <th>Toss_Name</th>\n",
              "      <th>Win_Type</th>\n",
              "      <th>Outcome_Type</th>\n",
              "      <th>ManOfMach</th>\n",
              "      <th>Win_Margin</th>\n",
              "      <th>Country_id</th>\n",
              "    </tr>\n",
              "  </thead>\n",
              "  <tbody>\n",
              "    <tr>\n",
              "      <th>0</th>\n",
              "      <td>0</td>\n",
              "      <td>335987</td>\n",
              "      <td>Royal Challengers Bangalore</td>\n",
              "      <td>Kolkata Knight Riders</td>\n",
              "      <td>4/18/2008</td>\n",
              "      <td>2008</td>\n",
              "      <td>M Chinnaswamy Stadium</td>\n",
              "      <td>Bangalore</td>\n",
              "      <td>India</td>\n",
              "      <td>Royal Challengers Bangalore</td>\n",
              "      <td>Kolkata Knight Riders</td>\n",
              "      <td>field</td>\n",
              "      <td>runs</td>\n",
              "      <td>Result</td>\n",
              "      <td>BB McCullum</td>\n",
              "      <td>140.0</td>\n",
              "      <td>1</td>\n",
              "    </tr>\n",
              "    <tr>\n",
              "      <th>1</th>\n",
              "      <td>1</td>\n",
              "      <td>335988</td>\n",
              "      <td>Kings XI Punjab</td>\n",
              "      <td>Chennai Super Kings</td>\n",
              "      <td>4/19/2008</td>\n",
              "      <td>2008</td>\n",
              "      <td>Punjab Cricket Association Stadium, Mohali</td>\n",
              "      <td>Chandigarh</td>\n",
              "      <td>India</td>\n",
              "      <td>Chennai Super Kings</td>\n",
              "      <td>Chennai Super Kings</td>\n",
              "      <td>bat</td>\n",
              "      <td>runs</td>\n",
              "      <td>Result</td>\n",
              "      <td>MEK Hussey</td>\n",
              "      <td>33.0</td>\n",
              "      <td>1</td>\n",
              "    </tr>\n",
              "    <tr>\n",
              "      <th>2</th>\n",
              "      <td>2</td>\n",
              "      <td>335989</td>\n",
              "      <td>Delhi Daredevils</td>\n",
              "      <td>Rajasthan Royals</td>\n",
              "      <td>4/19/2008</td>\n",
              "      <td>2008</td>\n",
              "      <td>Feroz Shah Kotla</td>\n",
              "      <td>Delhi</td>\n",
              "      <td>India</td>\n",
              "      <td>Rajasthan Royals</td>\n",
              "      <td>Delhi Daredevils</td>\n",
              "      <td>bat</td>\n",
              "      <td>wickets</td>\n",
              "      <td>Result</td>\n",
              "      <td>MF Maharoof</td>\n",
              "      <td>9.0</td>\n",
              "      <td>1</td>\n",
              "    </tr>\n",
              "    <tr>\n",
              "      <th>3</th>\n",
              "      <td>3</td>\n",
              "      <td>335990</td>\n",
              "      <td>Mumbai Indians</td>\n",
              "      <td>Royal Challengers Bangalore</td>\n",
              "      <td>4/20/2008</td>\n",
              "      <td>2008</td>\n",
              "      <td>Wankhede Stadium</td>\n",
              "      <td>Mumbai</td>\n",
              "      <td>India</td>\n",
              "      <td>Mumbai Indians</td>\n",
              "      <td>Royal Challengers Bangalore</td>\n",
              "      <td>bat</td>\n",
              "      <td>wickets</td>\n",
              "      <td>Result</td>\n",
              "      <td>MV Boucher</td>\n",
              "      <td>5.0</td>\n",
              "      <td>1</td>\n",
              "    </tr>\n",
              "    <tr>\n",
              "      <th>4</th>\n",
              "      <td>4</td>\n",
              "      <td>335991</td>\n",
              "      <td>Kolkata Knight Riders</td>\n",
              "      <td>Deccan Chargers</td>\n",
              "      <td>4/20/2008</td>\n",
              "      <td>2008</td>\n",
              "      <td>Eden Gardens</td>\n",
              "      <td>Kolkata</td>\n",
              "      <td>India</td>\n",
              "      <td>Deccan Chargers</td>\n",
              "      <td>Kolkata Knight Riders</td>\n",
              "      <td>bat</td>\n",
              "      <td>wickets</td>\n",
              "      <td>Result</td>\n",
              "      <td>DJ Hussey</td>\n",
              "      <td>5.0</td>\n",
              "      <td>1</td>\n",
              "    </tr>\n",
              "  </tbody>\n",
              "</table>\n",
              "</div>\n",
              "      <button class=\"colab-df-convert\" onclick=\"convertToInteractive('df-903f6ec8-28e0-4f7d-9d1f-f19c8b56e1d5')\"\n",
              "              title=\"Convert this dataframe to an interactive table.\"\n",
              "              style=\"display:none;\">\n",
              "        \n",
              "  <svg xmlns=\"http://www.w3.org/2000/svg\" height=\"24px\"viewBox=\"0 0 24 24\"\n",
              "       width=\"24px\">\n",
              "    <path d=\"M0 0h24v24H0V0z\" fill=\"none\"/>\n",
              "    <path d=\"M18.56 5.44l.94 2.06.94-2.06 2.06-.94-2.06-.94-.94-2.06-.94 2.06-2.06.94zm-11 1L8.5 8.5l.94-2.06 2.06-.94-2.06-.94L8.5 2.5l-.94 2.06-2.06.94zm10 10l.94 2.06.94-2.06 2.06-.94-2.06-.94-.94-2.06-.94 2.06-2.06.94z\"/><path d=\"M17.41 7.96l-1.37-1.37c-.4-.4-.92-.59-1.43-.59-.52 0-1.04.2-1.43.59L10.3 9.45l-7.72 7.72c-.78.78-.78 2.05 0 2.83L4 21.41c.39.39.9.59 1.41.59.51 0 1.02-.2 1.41-.59l7.78-7.78 2.81-2.81c.8-.78.8-2.07 0-2.86zM5.41 20L4 18.59l7.72-7.72 1.47 1.35L5.41 20z\"/>\n",
              "  </svg>\n",
              "      </button>\n",
              "      \n",
              "  <style>\n",
              "    .colab-df-container {\n",
              "      display:flex;\n",
              "      flex-wrap:wrap;\n",
              "      gap: 12px;\n",
              "    }\n",
              "\n",
              "    .colab-df-convert {\n",
              "      background-color: #E8F0FE;\n",
              "      border: none;\n",
              "      border-radius: 50%;\n",
              "      cursor: pointer;\n",
              "      display: none;\n",
              "      fill: #1967D2;\n",
              "      height: 32px;\n",
              "      padding: 0 0 0 0;\n",
              "      width: 32px;\n",
              "    }\n",
              "\n",
              "    .colab-df-convert:hover {\n",
              "      background-color: #E2EBFA;\n",
              "      box-shadow: 0px 1px 2px rgba(60, 64, 67, 0.3), 0px 1px 3px 1px rgba(60, 64, 67, 0.15);\n",
              "      fill: #174EA6;\n",
              "    }\n",
              "\n",
              "    [theme=dark] .colab-df-convert {\n",
              "      background-color: #3B4455;\n",
              "      fill: #D2E3FC;\n",
              "    }\n",
              "\n",
              "    [theme=dark] .colab-df-convert:hover {\n",
              "      background-color: #434B5C;\n",
              "      box-shadow: 0px 1px 3px 1px rgba(0, 0, 0, 0.15);\n",
              "      filter: drop-shadow(0px 1px 2px rgba(0, 0, 0, 0.3));\n",
              "      fill: #FFFFFF;\n",
              "    }\n",
              "  </style>\n",
              "\n",
              "      <script>\n",
              "        const buttonEl =\n",
              "          document.querySelector('#df-903f6ec8-28e0-4f7d-9d1f-f19c8b56e1d5 button.colab-df-convert');\n",
              "        buttonEl.style.display =\n",
              "          google.colab.kernel.accessAllowed ? 'block' : 'none';\n",
              "\n",
              "        async function convertToInteractive(key) {\n",
              "          const element = document.querySelector('#df-903f6ec8-28e0-4f7d-9d1f-f19c8b56e1d5');\n",
              "          const dataTable =\n",
              "            await google.colab.kernel.invokeFunction('convertToInteractive',\n",
              "                                                     [key], {});\n",
              "          if (!dataTable) return;\n",
              "\n",
              "          const docLinkHtml = 'Like what you see? Visit the ' +\n",
              "            '<a target=\"_blank\" href=https://colab.research.google.com/notebooks/data_table.ipynb>data table notebook</a>'\n",
              "            + ' to learn more about interactive tables.';\n",
              "          element.innerHTML = '';\n",
              "          dataTable['output_type'] = 'display_data';\n",
              "          await google.colab.output.renderOutput(dataTable, element);\n",
              "          const docLink = document.createElement('div');\n",
              "          docLink.innerHTML = docLinkHtml;\n",
              "          element.appendChild(docLink);\n",
              "        }\n",
              "      </script>\n",
              "    </div>\n",
              "  </div>\n",
              "  "
            ]
          },
          "metadata": {},
          "execution_count": 9
        }
      ]
    },
    {
      "cell_type": "code",
      "source": [
        "ipl.shape\n"
      ],
      "metadata": {
        "colab": {
          "base_uri": "https://localhost:8080/"
        },
        "id": "g2bnnHkFqsUH",
        "outputId": "b7a3ae7c-59b5-42ea-c428-219e462b30fb"
      },
      "execution_count": 10,
      "outputs": [
        {
          "output_type": "execute_result",
          "data": {
            "text/plain": [
              "(637, 17)"
            ]
          },
          "metadata": {},
          "execution_count": 10
        }
      ]
    },
    {
      "cell_type": "code",
      "source": [
        "ipl['Season_Year'].value_counts()"
      ],
      "metadata": {
        "colab": {
          "base_uri": "https://localhost:8080/"
        },
        "id": "q5VpHAXfqy4-",
        "outputId": "763ca53c-4bd2-4a21-fe3a-bffd9ce361d3"
      },
      "execution_count": 12,
      "outputs": [
        {
          "output_type": "execute_result",
          "data": {
            "text/plain": [
              "2013    76\n",
              "2012    74\n",
              "2011    73\n",
              "2010    60\n",
              "2014    60\n",
              "2016    60\n",
              "2017    60\n",
              "2015    59\n",
              "2008    58\n",
              "2009    57\n",
              "Name: Season_Year, dtype: int64"
            ]
          },
          "metadata": {},
          "execution_count": 12
        }
      ]
    },
    {
      "cell_type": "code",
      "source": [
        "ipl['ManOfMach'].value_counts()"
      ],
      "metadata": {
        "colab": {
          "base_uri": "https://localhost:8080/"
        },
        "id": "Wn3t8-s9sFIX",
        "outputId": "e5f15a54-be74-492b-8f06-e741f10c805a"
      },
      "execution_count": 14,
      "outputs": [
        {
          "output_type": "execute_result",
          "data": {
            "text/plain": [
              "CH Gayle          18\n",
              "YK Pathan         16\n",
              "AB de Villiers    15\n",
              "DA Warner         15\n",
              "RG Sharma         14\n",
              "                  ..\n",
              "MD Mishra          1\n",
              "SB Wagh            1\n",
              "S Anirudha         1\n",
              "M Kartik           1\n",
              "KV Sharma          1\n",
              "Name: ManOfMach, Length: 202, dtype: int64"
            ]
          },
          "metadata": {},
          "execution_count": 14
        }
      ]
    },
    {
      "cell_type": "code",
      "source": [
        "sns.distplot(ipl['Win_Margin'])\n",
        "plt.show()"
      ],
      "metadata": {
        "colab": {
          "base_uri": "https://localhost:8080/",
          "height": 641
        },
        "id": "-IJffwWGsb1X",
        "outputId": "445be07a-6f1c-4ec7-b7c3-2af42759e540"
      },
      "execution_count": 21,
      "outputs": [
        {
          "output_type": "stream",
          "name": "stderr",
          "text": [
            "<ipython-input-21-82aade415e6a>:1: UserWarning: \n",
            "\n",
            "`distplot` is a deprecated function and will be removed in seaborn v0.14.0.\n",
            "\n",
            "Please adapt your code to use either `displot` (a figure-level function with\n",
            "similar flexibility) or `histplot` (an axes-level function for histograms).\n",
            "\n",
            "For a guide to updating your code to use the new functions, please see\n",
            "https://gist.github.com/mwaskom/de44147ed2974457ad6372750bbe5751\n",
            "\n",
            "  sns.distplot(ipl['Win_Margin'])\n"
          ]
        },
        {
          "output_type": "display_data",
          "data": {
            "text/plain": [
              "<Figure size 640x480 with 1 Axes>"
            ],
            "image/png": "[encoded data removed]"
          },
          "metadata": {}
        }
      ]
    }
  ]
}