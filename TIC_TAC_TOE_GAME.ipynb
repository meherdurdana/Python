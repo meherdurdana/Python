{
  "nbformat": 4,
  "nbformat_minor": 0,
  "metadata": {
    "colab": {
      "provenance": []
    },
    "kernelspec": {
      "name": "python3",
      "display_name": "Python 3"
    },
    "language_info": {
      "name": "python"
    }
  },
  "cells": [
    {
      "cell_type": "code",
      "execution_count": null,
      "metadata": {
        "id": "sP71scpL_y8e"
      },
      "outputs": [],
      "source": [
        "def print_board(board):\n",
        "    print(\"-------------\")\n",
        "    for i in range(3):\n",
        "        print(\"|\", board[i][0], \"|\", board[i][1], \"|\", board[i][2], \"|\")\n",
        "        print(\"-------------\")\n",
        "\n",
        "def check_win(board):\n",
        "    for i in range(3):\n",
        "        if board[i][0] == board[i][1] == board[i][2] != ' ':\n",
        "            return True\n",
        "        if board[0][i] == board[1][i] == board[2][i] != ' ':\n",
        "            return True\n",
        "    if board[0][0] == board[1][1] == board[2][2] != ' ':\n",
        "        return True\n",
        "    if board[0][2] == board[1][1] == board[2][0] != ' ':\n",
        "        return True\n",
        "    return False\n",
        "\n",
        "def tic_tac_toe():\n",
        "    board = [[' ', ' ', ' '],\n",
        "             [' ', ' ', ' '],\n",
        "             [' ', ' ', ' ']]\n",
        "    player = 'X'\n",
        "    while True:\n",
        "        print_board(board)\n",
        "        row = int(input(\"Enter row (0, 1 or 2) for player \" + player + \": \"))\n",
        "        col = int(input(\"Enter column (0, 1 or 2) for player \" + player + \": \"))\n",
        "        if board[row][col] == ' ':\n",
        "            board[row][col] = player\n",
        "            if check_win(board):\n",
        "                print_board(board)\n",
        "                print(\"Player \" + player + \" wins!\")\n",
        "                return\n",
        "            if player == 'X':\n",
        "                player = 'O'\n",
        "            else:\n",
        "                player = 'X'\n",
        "        else:\n",
        "            print(\"That cell is already occupied. Try again.\")\n",
        "\n",
        "tic_tac_toe()"
      ]
    }
  ]
}