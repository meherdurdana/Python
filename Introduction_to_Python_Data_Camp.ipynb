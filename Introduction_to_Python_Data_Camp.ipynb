{
  "nbformat": 4,
  "nbformat_minor": 0,
  "metadata": {
    "colab": {
      "provenance": [],
      "authorship_tag": "ABX9TyMauTWXmz5/t8zwulsAjZGq",
      "include_colab_link": true
    },
    "kernelspec": {
      "name": "python3",
      "display_name": "Python 3"
    },
    "language_info": {
      "name": "python"
    }
  },
  "cells": [
    {
      "cell_type": "markdown",
      "metadata": {
        "id": "view-in-github",
        "colab_type": "text"
      },
      "source": [
        "<a href=\"https://colab.research.google.com/github/meherdurdana/Python/blob/main/Introduction_to_Python_Data_Camp.ipynb\" target=\"_parent\"><img src=\"https://colab.research.google.com/assets/colab-badge.svg\" alt=\"Open In Colab\"/></a>"
      ]
    },
    {
      "cell_type": "markdown",
      "source": [
        "#**Variable Assignment**\n",
        "In Python, a variable allows you to refer to a value with a name. To create a variable x with a value of 5, you use =, like this example:\n",
        "\n",
        "x = 5\n",
        "You can now use the name of this variable, x, instead of the actual value, 5.\n",
        "\n",
        "Remember, = in Python means assignment, it doesn't test equality!\n",
        "\n",
        "**Instructions**\n",
        "\n",
        "Create a variable savings with the value of 100.\n",
        "Check out this variable by typing print(savings) in the script."
      ],
      "metadata": {
        "id": "MlQa8rDsiOIY"
      }
    },
    {
      "cell_type": "code",
      "execution_count": 1,
      "metadata": {
        "colab": {
          "base_uri": "https://localhost:8080/"
        },
        "id": "vhHxSbEghJOP",
        "outputId": "3beead3e-e036-49a9-db7a-95915501a25f"
      },
      "outputs": [
        {
          "output_type": "stream",
          "name": "stdout",
          "text": [
            "100\n"
          ]
        }
      ],
      "source": [
        "# Create a variable savings\n",
        "savings = 100\n",
        "\n",
        "# Print out savings\n",
        "print(savings)"
      ]
    },
    {
      "cell_type": "markdown",
      "source": [
        "#Calculations with variables\n",
        "You've now created a savings variable, so let's start saving!\n",
        "\n",
        "Instead of calculating with the actual values, you can use variables instead. The savings variable you created in the previous exercise with a value of 100 is available to you.\n",
        "\n",
        "How much money would you have saved four months from now, if you saved $10 each month?\n",
        "\n",
        "**Instructions**\n",
        "\n",
        "Create a variable monthly_savings, equal to 10 and num_months, equal to 4.\n",
        "Multiply monthly_savings by num_months and save it to new_savings.\n",
        "Add new_savings to savings, saving the sum as total_savings.\n",
        "Print the value of total_savings"
      ],
      "metadata": {
        "id": "0wyzOM15iwBp"
      }
    },
    {
      "cell_type": "code",
      "source": [
        "# Create the variables monthly_savings and num_months\n",
        "monthly_savings = 10\n",
        "num_months = 4\n",
        "\n",
        "# Multiply monthly_savings and num_months\n",
        "new_savings = monthly_savings*num_months\n",
        "\n",
        "# Add new_savings to your savings\n",
        "total_savings = new_savings + savings\n",
        "\n",
        "# Print total_savings\n",
        "print(total_savings)"
      ],
      "metadata": {
        "colab": {
          "base_uri": "https://localhost:8080/"
        },
        "id": "o05v73ebhWM5",
        "outputId": "2f712743-730d-4b9b-b0d7-c8c3badda496"
      },
      "execution_count": 2,
      "outputs": [
        {
          "output_type": "stream",
          "name": "stdout",
          "text": [
            "140\n"
          ]
        }
      ]
    },
    {
      "cell_type": "markdown",
      "source": [
        "#Other variable types\n",
        "In the previous exercise, you worked with the integer Python data type:\n",
        "\n",
        "int, or integer: a number without a fractional part. savings, with the value 100, is an example of an integer.\n",
        "Next to numerical data types, there are three other very common data types:\n",
        "\n",
        "float, or floating point: a number that has both an integer and fractional part, separated by a point. 1.1, is an example of a float.\n",
        "str, or string: a type to represent text. You can use single or double quotes to build a string.\n",
        "bool, or boolean: a type to represent logical values. It can only be True or False (the capitalization is important!).\n",
        "\n",
        "**Instructions**\n",
        "\n",
        "Create a new float, half, with the value 0.5.\n",
        "Create a new string, intro, with the value \"Hello! How are you?\".\n",
        "Create a new boolean, is_good, with the value True."
      ],
      "metadata": {
        "id": "XHt5bKM-i_DS"
      }
    },
    {
      "cell_type": "code",
      "source": [
        "# Create a variable half\n",
        "half = 0.5\n",
        "\n",
        "# Create a variable intro\n",
        "intro = \"Hello! How are you?\"\n",
        "\n",
        "# Create a variable is_good\n",
        "is_good = True"
      ],
      "metadata": {
        "id": "PLT9Zy60i_Px"
      },
      "execution_count": 3,
      "outputs": []
    },
    {
      "cell_type": "markdown",
      "source": [
        "#Operations with other types\n",
        "Hugo mentioned that different types behave differently in Python.\n",
        "\n",
        "When you sum two strings, for example, you'll get different behavior than when you sum two integers or two booleans.\n",
        "\n",
        "In the script some variables with different types have already been created. It's up to you to use them.\n",
        "\n",
        "**Instructions**\n",
        "\n",
        "Calculate the product of monthly_savings and num_months. Store the result in year_savings.\n",
        "What do you think the resulting type will be? Find out by printing out the type of year_savings.\n",
        "Calculate the sum of intro and intro and store the result in a new variable doubleintro.\n",
        "Print out doubleintro. Did you expect this?"
      ],
      "metadata": {
        "id": "VCDSXuWpjLbZ"
      }
    },
    {
      "cell_type": "code",
      "source": [
        "monthly_savings = 10\n",
        "num_months = 12\n",
        "intro = \"Hello! How are you?\"\n",
        "\n",
        "# Calculate year_savings using monthly_savings and num_months\n",
        "year_savings = monthly_savings * num_months\n",
        "\n",
        "# Print the type of year_savings\n",
        "print(type(year_savings))\n",
        "\n",
        "# Assign sum of intro and intro to doubleintro\n",
        "doubleintro = intro + intro\n",
        "\n",
        "# Print out doubleintro\n",
        "print(doubleintro)"
      ],
      "metadata": {
        "colab": {
          "base_uri": "https://localhost:8080/"
        },
        "id": "L5bGpy5bjLnJ",
        "outputId": "02f0577f-2b30-45e1-f622-59b1664482d5"
      },
      "execution_count": 4,
      "outputs": [
        {
          "output_type": "stream",
          "name": "stdout",
          "text": [
            "<class 'int'>\n",
            "Hello! How are you?Hello! How are you?\n"
          ]
        }
      ]
    },
    {
      "cell_type": "markdown",
      "source": [
        "#Type conversion\n",
        "Using the + operator to paste together two strings can be very useful in building custom messages.\n",
        "\n",
        "Suppose, for example, that you've calculated your savings want to summarize the results in a string.\n",
        "\n",
        "To do this, you'll need to explicitly convert the types of your variables. More specifically, you'll need str(), to convert a value into a string. str(savings), for example, will convert the integer savings to a string.\n",
        "\n",
        "Similar functions such as int(), float() and bool() will help you convert Python values into any type.\n",
        "\n",
        "**Instructions**\n",
        "\n",
        "Hit Run Code to run the code. Try to understand the error message.\n",
        "Fix the code such that the printout runs without errors; use the function str() to convert the variables savings and total_savings to strings.\n",
        "Convert the variable pi_string to a float and store this float as a new variable, pi_float."
      ],
      "metadata": {
        "id": "-AhzFCpEjYjx"
      }
    },
    {
      "cell_type": "code",
      "source": [
        "# Definition of savings and total_savings\n",
        "savings = 100\n",
        "total_savings = 150\n",
        "\n",
        "# Fix the printout\n",
        "print(\"I started with $\" + str(savings) + \" and now have $\" + str(total_savings) + \". Awesome!\")\n",
        "\n",
        "# Definition of pi_string\n",
        "pi_string = \"3.1415926\"\n",
        "\n",
        "# Convert pi_string into float: pi_float\n",
        "pi_float = float(pi_string)"
      ],
      "metadata": {
        "colab": {
          "base_uri": "https://localhost:8080/"
        },
        "id": "Nfw1ds6QjYwh",
        "outputId": "3c80ac35-a390-4d84-a94b-898d3bb767d8"
      },
      "execution_count": 5,
      "outputs": [
        {
          "output_type": "stream",
          "name": "stdout",
          "text": [
            "I started with $100 and now have $150. Awesome!\n"
          ]
        }
      ]
    }
  ]
}